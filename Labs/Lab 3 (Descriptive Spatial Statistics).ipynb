{
 "cells": [
  {
   "cell_type": "markdown",
   "metadata": {},
   "source": [
    "# Descriptive Spatial Statistics"
   ]
  },
  {
   "cell_type": "markdown",
   "metadata": {},
   "source": [
    "In this lab we will begin to understand some of the basics means to derive descriptive spatial statistics. First lets get some data loaded up so we can work with it. As always we will start with importing some essential libraries, then using the OS to navigate to our data folder and then importing the csv file."
   ]
  },
  {
   "cell_type": "code",
   "execution_count": null,
   "metadata": {},
   "outputs": [],
   "source": [
    "import pandas as pd\n",
    "import os"
   ]
  },
  {
   "cell_type": "code",
   "execution_count": null,
   "metadata": {},
   "outputs": [],
   "source": [
    "pd.set_option('display.max_columns', 500)"
   ]
  },
  {
   "cell_type": "code",
   "execution_count": null,
   "metadata": {},
   "outputs": [],
   "source": [
    "os.chdir('data')"
   ]
  },
  {
   "cell_type": "code",
   "execution_count": null,
   "metadata": {},
   "outputs": [],
   "source": [
    "os.listdir()"
   ]
  },
  {
   "cell_type": "markdown",
   "metadata": {},
   "source": [
    "The file we will be working with today is the 'food_all.csv'. This is data derived from a number of sources including REIGN, UCDP, World Bank, and others!"
   ]
  },
  {
   "cell_type": "code",
   "execution_count": null,
   "metadata": {},
   "outputs": [],
   "source": [
    "food_data = pd.read_csv('food_all.csv', encoding='latin-1')"
   ]
  },
  {
   "cell_type": "markdown",
   "metadata": {},
   "source": [
    "Lets check and make sure that our data is loaded up properly."
   ]
  },
  {
   "cell_type": "code",
   "execution_count": null,
   "metadata": {},
   "outputs": [],
   "source": [
    "food_data.head()"
   ]
  },
  {
   "cell_type": "markdown",
   "metadata": {},
   "source": [
    "Great! It all looks good so we can proceed to discuss some of the important things we talked about last class."
   ]
  },
  {
   "cell_type": "markdown",
   "metadata": {},
   "source": [
    "## Variable Types"
   ]
  },
  {
   "cell_type": "markdown",
   "metadata": {},
   "source": [
    "First up variable types. As we talked about before people generally conceptualize variable types in four basic levels; nominal, ordinal, ratio and interval. Python has a number of accepted data types but we will focus for now on the ones that are related to the variable types discussed."
   ]
  },
  {
   "cell_type": "markdown",
   "metadata": {},
   "source": [
    "### Nominal"
   ]
  },
  {
   "cell_type": "markdown",
   "metadata": {},
   "source": [
    "Nominal variable types are those that have not statistically important significance, but that does not however mean these are not important! Furthermore nominal data can come in a variety of python data types.  These can be both numbers, like IDs, or names."
   ]
  },
  {
   "cell_type": "markdown",
   "metadata": {},
   "source": [
    "**EXCERCISE** \n",
    "Find a nominal variable that is a:\n",
    "1. Object (This is a string variable)\n",
    "2. Int64 (This is a number or integer)\n",
    "\n",
    "\n",
    "*Hint*\n",
    "The python code to find a data type is '.dtypes'"
   ]
  },
  {
   "cell_type": "code",
   "execution_count": null,
   "metadata": {},
   "outputs": [],
   "source": []
  },
  {
   "cell_type": "code",
   "execution_count": null,
   "metadata": {},
   "outputs": [],
   "source": []
  },
  {
   "cell_type": "markdown",
   "metadata": {},
   "source": [
    "Great! So why are nominal variable types so important? They can be used to group data. We will talk about crosstabulation later in the lab where these values will become increasingly important. "
   ]
  },
  {
   "cell_type": "markdown",
   "metadata": {},
   "source": [
    "### Ordinal"
   ]
  },
  {
   "cell_type": "markdown",
   "metadata": {},
   "source": [
    "This data actually does not have an ordinal variable type already, but thats ok because its good practice to make a new variable! How about we take the leader age variable and bucket it! First lets check out what the distribution of the age variable is."
   ]
  },
  {
   "cell_type": "code",
   "execution_count": null,
   "metadata": {},
   "outputs": [],
   "source": [
    "food_data.age.describe()"
   ]
  },
  {
   "cell_type": "markdown",
   "metadata": {},
   "source": [
    "Alright so we can now see the distributions of the variable.  Lets make four bins based on these percentiles, and lets just give it a simple label as well."
   ]
  },
  {
   "cell_type": "code",
   "execution_count": null,
   "metadata": {},
   "outputs": [],
   "source": [
    "bins = [0, 49, 57, 64, 94]\n",
    "labels = [1,2,3,4]"
   ]
  },
  {
   "cell_type": "markdown",
   "metadata": {},
   "source": [
    "Now we can use the cut method (https://pandas.pydata.org/pandas-docs/stable/reference/api/pandas.cut.html) to make this a new column in our data."
   ]
  },
  {
   "cell_type": "code",
   "execution_count": null,
   "metadata": {},
   "outputs": [],
   "source": [
    "food_data['age_bin'] = pd.cut(food_data['age'], bins,labels=labels)"
   ]
  },
  {
   "cell_type": "code",
   "execution_count": null,
   "metadata": {},
   "outputs": [],
   "source": [
    "food_data.age_bin.describe()"
   ]
  },
  {
   "cell_type": "markdown",
   "metadata": {},
   "source": [
    "We now have an ordinal data type!"
   ]
  },
  {
   "cell_type": "markdown",
   "metadata": {},
   "source": [
    "### Continous"
   ]
  },
  {
   "cell_type": "markdown",
   "metadata": {},
   "source": [
    "Lets just put the next two together for this excercise as there are quite a few. \n",
    "\n",
    "**EXERCISE** \n",
    "Find the continuous value for the per person daily caloric food supply and record the:\n",
    "1. Minimum\n",
    "2. Maximum \n"
   ]
  },
  {
   "cell_type": "code",
   "execution_count": null,
   "metadata": {},
   "outputs": [],
   "source": []
  },
  {
   "cell_type": "markdown",
   "metadata": {},
   "source": [
    "### BONUS! Binary/DUMMY Variables"
   ]
  },
  {
   "cell_type": "markdown",
   "metadata": {},
   "source": [
    "Find one! Which value(0,1) represents what?"
   ]
  },
  {
   "cell_type": "code",
   "execution_count": null,
   "metadata": {},
   "outputs": [],
   "source": []
  },
  {
   "cell_type": "markdown",
   "metadata": {},
   "source": [
    "## Measures of Central Tendency"
   ]
  },
  {
   "cell_type": "markdown",
   "metadata": {},
   "source": [
    "Lets start with the simplest and often the most important, average. Remeber average is only important for certain variable types. Lets pick one of the continuous variables and see what comes back."
   ]
  },
  {
   "cell_type": "code",
   "execution_count": null,
   "metadata": {},
   "outputs": [],
   "source": [
    "food_data.Rye.mean()"
   ]
  },
  {
   "cell_type": "markdown",
   "metadata": {},
   "source": [
    "How about a binary variable?"
   ]
  },
  {
   "cell_type": "code",
   "execution_count": null,
   "metadata": {},
   "outputs": [],
   "source": [
    "food_data.democracy.mean()"
   ]
  },
  {
   "cell_type": "markdown",
   "metadata": {},
   "source": [
    "Great lets try and get the median value of both of these now."
   ]
  },
  {
   "cell_type": "code",
   "execution_count": null,
   "metadata": {},
   "outputs": [],
   "source": [
    "food_data.Rye.median()"
   ]
  },
  {
   "cell_type": "code",
   "execution_count": null,
   "metadata": {},
   "outputs": [],
   "source": [
    "food_data.democracy.median()"
   ]
  },
  {
   "cell_type": "markdown",
   "metadata": {},
   "source": [
    "How about the mode?"
   ]
  },
  {
   "cell_type": "code",
   "execution_count": null,
   "metadata": {},
   "outputs": [],
   "source": [
    "food_data.Rye.mode()"
   ]
  },
  {
   "cell_type": "markdown",
   "metadata": {},
   "source": [
    "Hmm that is odd? Mode is supposed to return the most frequent value and yet this has returned four. Lets try to get mode a different way, namely using the value_counts() function. This returns a list of the number of times each value pops up."
   ]
  },
  {
   "cell_type": "code",
   "execution_count": null,
   "metadata": {},
   "outputs": [],
   "source": [
    "food_data.Rye.value_counts()"
   ]
  },
  {
   "cell_type": "markdown",
   "metadata": {},
   "source": [
    "Aha! So all four of those values are the mode because each pops up in the data 4 times. "
   ]
  },
  {
   "cell_type": "markdown",
   "metadata": {},
   "source": [
    "## Sum, Min, Max"
   ]
  },
  {
   "cell_type": "markdown",
   "metadata": {},
   "source": [
    "Lets go backwards. Min/Max can be really useful and also really easy to figure out. Just use the describe function we have used plenty so far."
   ]
  },
  {
   "cell_type": "code",
   "execution_count": null,
   "metadata": {},
   "outputs": [],
   "source": [
    "food_data.Corn.describe()"
   ]
  },
  {
   "cell_type": "markdown",
   "metadata": {},
   "source": [
    "Now we can see that the price of corn has a low of 21.5 and a high of 148.9.  This can be particularly useful for looking into outliers in the data. Outliers are always important to account for."
   ]
  },
  {
   "cell_type": "markdown",
   "metadata": {},
   "source": [
    "Sum can be useful across an entire data frame in some circumstance, but for many of the variables not all that important.  What would be the use of summing the age of all leaders? Lets find a variable that could be useful however. Events are particularly useful to sum oftentimes. One event in this data is Coups! pt_attempt means in this given year a Powell and Thyne recorded coup was attempted. "
   ]
  },
  {
   "cell_type": "code",
   "execution_count": null,
   "metadata": {},
   "outputs": [],
   "source": [
    "food_data.pt_attempt.sum()"
   ]
  },
  {
   "cell_type": "markdown",
   "metadata": {},
   "source": [
    "That may seem like a lot of coups but in fact its only a very small percentage of the total country-years in the data frame. \n",
    "\n",
    "**Exercise** Find the number of country-years that had a coup"
   ]
  },
  {
   "cell_type": "code",
   "execution_count": null,
   "metadata": {},
   "outputs": [],
   "source": []
  },
  {
   "cell_type": "markdown",
   "metadata": {},
   "source": [
    "## Data Frame Types"
   ]
  },
  {
   "cell_type": "markdown",
   "metadata": {},
   "source": [
    "So we've covered some basics of descriptives but now lets turn to the slightly more confusing aspect of manipulating dataframes in ways that are important to better illustrating trends we want to see. "
   ]
  },
  {
   "cell_type": "markdown",
   "metadata": {},
   "source": [
    "### Panel"
   ]
  },
  {
   "cell_type": "markdown",
   "metadata": {},
   "source": [
    "We're gonng go backwards since you can always easily aggregate down, but not up. Lets try to identify the two key components that make a data frame the panel type. Remember in a panel data frame time and grouping units must both vary:\n",
    "1. Grouping Variable\n",
    "2. Time Variable"
   ]
  },
  {
   "cell_type": "code",
   "execution_count": null,
   "metadata": {},
   "outputs": [],
   "source": [
    "food_data.year.describe()"
   ]
  },
  {
   "cell_type": "code",
   "execution_count": null,
   "metadata": {},
   "outputs": [],
   "source": [
    "food_data.country.unique()"
   ]
  },
  {
   "cell_type": "markdown",
   "metadata": {},
   "source": [
    "Awesome so this is definitely a panel data frame! We have been performing descriptive statistics on this data frame before this point but now lets look at a few other ways to manipulate it through the groupby function. "
   ]
  },
  {
   "cell_type": "code",
   "execution_count": null,
   "metadata": {},
   "outputs": [],
   "source": [
    "food_data.groupby('democracy')['Rye'].mean()"
   ]
  },
  {
   "cell_type": "markdown",
   "metadata": {},
   "source": [
    "Here we see that the price of Rye is a little higher on average in autocracies. Lets see how many coups we have across these two groups."
   ]
  },
  {
   "cell_type": "code",
   "execution_count": null,
   "metadata": {},
   "outputs": [],
   "source": [
    "food_data.groupby('democracy')['pt_attempt'].sum()"
   ]
  },
  {
   "cell_type": "markdown",
   "metadata": {},
   "source": [
    "Quite the disparity! A lot more coups have occured in autocracies historically. \n",
    "\n",
    "Lets see what the average age and percentage of leaders who have a military career all in one line. "
   ]
  },
  {
   "cell_type": "code",
   "execution_count": null,
   "metadata": {},
   "outputs": [],
   "source": [
    "food_data.groupby('democracy')[['age', 'militarycareer']].mean()"
   ]
  },
  {
   "cell_type": "markdown",
   "metadata": {},
   "source": [
    "While the average age is only slightly higher in democracies, far less leaders have had a military career. "
   ]
  },
  {
   "cell_type": "markdown",
   "metadata": {},
   "source": [
    "### Longitudinal"
   ]
  },
  {
   "cell_type": "markdown",
   "metadata": {},
   "source": [
    "We no are going to turn to a longitudinal data frame. This means that we are holding the grouping unit constant, and looking just at the change over time within that unit."
   ]
  },
  {
   "cell_type": "code",
   "execution_count": null,
   "metadata": {},
   "outputs": [],
   "source": [
    "poland = food_data.loc[food_data.country == \"Poland\"]"
   ]
  },
  {
   "cell_type": "code",
   "execution_count": null,
   "metadata": {},
   "outputs": [],
   "source": [
    "poland.tail(10)\n",
    "           "
   ]
  },
  {
   "cell_type": "markdown",
   "metadata": {},
   "source": [
    "Yep thats Poland. As we can see each row corresponds to a different year within Poland from 1950-2019. Now when we take descriptive statistics similar to before, we are doing it just across data on Poland in particular. "
   ]
  },
  {
   "cell_type": "code",
   "execution_count": null,
   "metadata": {},
   "outputs": [],
   "source": [
    "poland.democracy.value_counts()"
   ]
  },
  {
   "cell_type": "code",
   "execution_count": null,
   "metadata": {},
   "outputs": [],
   "source": [
    "poland['percap cals'].mean()"
   ]
  },
  {
   "cell_type": "markdown",
   "metadata": {},
   "source": [
    "### Cross-Sectional"
   ]
  },
  {
   "cell_type": "markdown",
   "metadata": {},
   "source": [
    "Cross-sectional holds time constant across units.  We could go about this a number of ways, taking ranges or aggregating across the entire dataframe. Let's just pick a single year though."
   ]
  },
  {
   "cell_type": "code",
   "execution_count": null,
   "metadata": {},
   "outputs": [],
   "source": [
    "cross_13 = food_data.loc[food_data['year'] == 2013]"
   ]
  },
  {
   "cell_type": "markdown",
   "metadata": {},
   "source": [
    "Again we can run descriptives across the data frame and to explain trends and patterns across all countries."
   ]
  },
  {
   "cell_type": "code",
   "execution_count": null,
   "metadata": {},
   "outputs": [],
   "source": [
    "cross_13.government.value_counts()"
   ]
  },
  {
   "cell_type": "code",
   "execution_count": null,
   "metadata": {},
   "outputs": [],
   "source": [
    "cross_13.democracy.mean()"
   ]
  },
  {
   "cell_type": "code",
   "execution_count": null,
   "metadata": {},
   "outputs": [],
   "source": [
    "cross_13['percap cals'].describe()"
   ]
  },
  {
   "cell_type": "code",
   "execution_count": null,
   "metadata": {},
   "outputs": [],
   "source": []
  },
  {
   "cell_type": "markdown",
   "metadata": {},
   "source": [
    "## BONUS Graph Descriptives"
   ]
  },
  {
   "cell_type": "markdown",
   "metadata": {},
   "source": [
    "Don't worry about this next box for now this is just some settings for visual purposes."
   ]
  },
  {
   "cell_type": "code",
   "execution_count": null,
   "metadata": {},
   "outputs": [],
   "source": [
    "import matplotlib as mpl\n",
    "from matplotlib.lines import Line2D\n",
    "import matplotlib.pyplot as plt\n",
    "\n",
    "def tableau_colors():\n",
    "    \"\"\"\n",
    "    Args:\n",
    "\n",
    "    Returns:\n",
    "        dictionary of {color (str) : RGB (tuple) for the dark tableau20 colors}\n",
    "    \"\"\"\n",
    "    tableau20 = [(31, 119, 180), (174, 199, 232), (255, 127, 14), (255, 187, 120),\n",
    "                 (44, 160, 44), (152, 223, 138), (214, 39, 40), (255, 152, 150),\n",
    "                 (148, 103, 189), (197, 176, 213), (140, 86, 75), (196, 156, 148),\n",
    "                 (227, 119, 194), (247, 182, 210), (127, 127, 127), (199, 199, 199),\n",
    "                 (188, 189, 34), (219, 219, 141), (23, 190, 207), (158, 218, 229)]\n",
    "\n",
    "    for i in range(len(tableau20)):\n",
    "        r, g, b = tableau20[i]\n",
    "        tableau20[i] = (r / 255., g / 255., b / 255.)\n",
    "    names = ['blue', 'orange', 'green', 'red', 'purple', 'brown', 'pink', 'gray', 'yellow', 'turquoise']\n",
    "    colors = [tableau20[i] for i in range(0, 20, 2)]\n",
    "\n",
    "    return dict(zip(names,colors))\n",
    "\n",
    "\n",
    "def set_rc_params_jup():\n",
    "    \"\"\"\n",
    "    Args:\n",
    "\n",
    "    Returns:\n",
    "        dictionary of settings for mpl.rcParams\n",
    "    \"\"\"\n",
    "    params = {'axes.linewidth' : 1.5,\n",
    "              'axes.unicode_minus' : False,\n",
    "              'figure.dpi' : 000,\n",
    "              'font.size' : 12,\n",
    "              'legend.frameon' : True,\n",
    "              'legend.handletextpad' : 0.4,\n",
    "              'legend.handlelength' : 1,\n",
    "              'legend.facecolor' : 'white',\n",
    "              'legend.fancybox'  : True,\n",
    "              'legend.fontsize' : 8,\n",
    "              'mathtext.default' : 'regular',\n",
    "              'savefig.bbox' : 'tight',\n",
    "              'xtick.labelsize' : 10,\n",
    "              'ytick.labelsize' : 10,\n",
    "              'xtick.major.size' : 4,\n",
    "              'ytick.major.size' : 4,\n",
    "              'xtick.major.width' : 1,\n",
    "              'ytick.major.width' : 1,\n",
    "              'xtick.top' : True,\n",
    "              'ytick.right' : True,\n",
    "              'axes.edgecolor' : 'black',\n",
    "              'savefig.facecolor'   : 'white',\n",
    "              'axes.facecolor'   : 'whitesmoke',\n",
    "              'font.family' : 'sans',\n",
    "              'font.monospace' : 'computer modern roman',\n",
    "              'text.usetex' : True,\n",
    "              'axes.grid' : True,\n",
    "              'grid.color' :   'gray',\n",
    "              'grid.linestyle' :   '-',\n",
    "              'grid.linewidth'  :   0.2,\n",
    "              'grid.alpha'       :   0.3,\n",
    "              'axes.axisbelow'      : 'line'\n",
    "              }\n",
    "    for p in params:\n",
    "        mpl.rcParams[p] = params[p]\n",
    "    return params\n",
    "\n",
    "set_rc_params_jup()\n",
    "tab = tableau_colors()"
   ]
  },
  {
   "cell_type": "markdown",
   "metadata": {},
   "source": [
    "Lets plot a continuous variable!"
   ]
  },
  {
   "cell_type": "code",
   "execution_count": null,
   "metadata": {},
   "outputs": [],
   "source": [
    "fig, ax = plt.subplots(1, figsize=[10,10])\n",
    "france = food_data.loc[food_data['country'] == \"France\"]\n",
    "usa = food_data.loc[food_data['country'] == \"USA\"]\n",
    "plt.plot(france['year'], france['percap cals'], label='France')\n",
    "plt.plot(usa['year'], usa['percap cals'], label='USA')\n",
    "plt.title('Food Supply Decrease', y=1.02)\n",
    "plt.ylabel('Kilocalories per person per day')\n",
    "plt.legend()\n",
    "fig.savefig('wealthy_decrease.png')\n",
    "plt.tight_layout()\n",
    "plt.show()"
   ]
  },
  {
   "cell_type": "markdown",
   "metadata": {},
   "source": [
    "How about a nominal variable?"
   ]
  },
  {
   "cell_type": "code",
   "execution_count": null,
   "metadata": {},
   "outputs": [],
   "source": [
    "food_data.government.value_counts().plot(kind='barh')\n",
    "plt.show()"
   ]
  },
  {
   "cell_type": "code",
   "execution_count": null,
   "metadata": {},
   "outputs": [],
   "source": []
  },
  {
   "cell_type": "code",
   "execution_count": null,
   "metadata": {},
   "outputs": [],
   "source": []
  }
 ],
 "metadata": {
  "kernelspec": {
   "display_name": "Python 3",
   "language": "python",
   "name": "python3"
  },
  "language_info": {
   "codemirror_mode": {
    "name": "ipython",
    "version": 3
   },
   "file_extension": ".py",
   "mimetype": "text/x-python",
   "name": "python",
   "nbconvert_exporter": "python",
   "pygments_lexer": "ipython3",
   "version": "3.6.7"
  }
 },
 "nbformat": 4,
 "nbformat_minor": 2
}
