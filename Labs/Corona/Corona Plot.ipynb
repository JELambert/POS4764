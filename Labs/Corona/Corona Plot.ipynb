{
 "cells": [
  {
   "cell_type": "code",
   "execution_count": null,
   "metadata": {},
   "outputs": [],
   "source": [
    "import pandas as pd\n",
    "import geopandas as gpd\n",
    "%matplotlib notebook\n",
    "pd.set_option('display.max_columns', 500)\n",
    "pd.set_option('display.max_rows', 500)\n",
    "import matplotlib.pyplot as plt\n",
    "from shapely.geometry import Point, LineString, Polygon\n",
    "from scipy import stats\n",
    "import scipy\n",
    "import seaborn as sns\n",
    "import numpy as np\n",
    "import urllib.request as urllib2\n",
    "\n",
    "from bokeh.io import output_file, output_notebook, show\n",
    "from bokeh.plotting import figure, ColumnDataSource\n",
    "output_notebook()\n",
    "\n",
    "from bokeh.io import show\n",
    "from bokeh.io import curdoc\n",
    "from bokeh.models import (CDSView, ColorBar, ColumnDataSource, CustomJS,\n",
    "                          CustomJSFilter, GeoJSONDataSource, HoverTool,\n",
    "                          LinearColorMapper, Slider, Select)\n",
    "from bokeh.layouts import column, row, widgetbox\n",
    "from bokeh.palettes import brewer\n",
    "from bokeh.plotting import figure, output_file\n",
    "import bokeh\n",
    "from bokeh.models import Legend, LegendItem\n",
    "from bokeh.models import Label\n",
    "from bokeh.models.tickers import DatetimeTicker\n",
    "from bokeh.sampledata.sample_geojson import geojson"
   ]
  },
  {
   "cell_type": "code",
   "execution_count": null,
   "metadata": {},
   "outputs": [],
   "source": [
    "def get_covid(day):\n",
    "    \n",
    "    \"\"\"Day format\n",
    "    \"03-24-2020\"\n",
    "    \n",
    "    \"\"\"\n",
    "    \n",
    "    baseweb = 'https://raw.githubusercontent.com/CSSEGISandData/COVID-19/master/csse_covid_19_data/csse_covid_19_daily_reports/'\n",
    "\n",
    "    ##############Change the day!!\n",
    "\n",
    "    d = day\n",
    "\n",
    "    csv = \".csv\"\n",
    "\n",
    "    jhweb = baseweb + day + csv\n",
    "\n",
    "\n",
    "    jhtime = 'https://raw.githubusercontent.com/CSSEGISandData/COVID-19/master/csse_covid_19_data/csse_covid_19_time_series/time_series_covid19_confirmed_global.csv'\n",
    "\n",
    "    jh3 = pd.read_csv(jhweb)\n",
    "\n",
    "    jht = pd.read_csv(jhtime)\n",
    "    \n",
    "    us = jh3.loc[jh3.Country_Region == \"US\"]\n",
    "    us_geometry = [Point(xy) for xy in zip(us.Long_, us.Lat)]\n",
    "    us_gdf = gpd.GeoDataFrame(us, geometry = us_geometry)\n",
    "    \n",
    "    nots = ['Diamond Princess', 'Grand Princess', 'Guam',\n",
    "       'Northern Mariana Islands', 'Puerto Rico', 'Recovered',\n",
    "       'Virgin Islands', 'Alaska', 'Hawaii', 'American Samoa', 'Wuhan Evacuee']\n",
    "\n",
    "    us_gdf = us_gdf.loc[(~us_gdf.Province_State.isin(nots))]\n",
    "    us_gdf = us_gdf.dropna(subset=['FIPS'], axis=0)\n",
    "    \n",
    "    return jh3, jht, us_gdf\n",
    "\n",
    "jh3, jht, us_gdf = get_covid(\"03-24-2020\")\n"
   ]
  },
  {
   "cell_type": "code",
   "execution_count": null,
   "metadata": {},
   "outputs": [],
   "source": [
    "\n",
    "def shape():\n",
    "    \n",
    "    counties = gpd.read_file('usa/UScounties.shp')\n",
    "    counties.FIPS =counties.FIPS.astype(int) \n",
    "    \n",
    "    return counties\n",
    "\n",
    "counties = shape()"
   ]
  },
  {
   "cell_type": "code",
   "execution_count": null,
   "metadata": {},
   "outputs": [],
   "source": [
    "def get_sahi():\n",
    "    \n",
    "    sahi = pd.read_csv('sahie_2017.csv')\n",
    "    sahi_c = sahi.loc[sahi.geocat == 50]\n",
    "    sahi_all = sahi_c.loc[(sahi_c.iprcat == 0) & (sahi_c.racecat == 0) &(sahi_c.sexcat == 0) &\n",
    "                      (sahi_c.agecat == 0)]\n",
    "\n",
    "    return sahi_all\n",
    "sahi = get_sahi()"
   ]
  },
  {
   "cell_type": "code",
   "execution_count": null,
   "metadata": {},
   "outputs": [],
   "source": [
    "def merge_all(sahi, counties, jh3):\n",
    "    \n",
    "    us_counties = counties.merge(sahi, left_on='FIPS', right_on='cfips', how='left')\n",
    "    \n",
    "    us_counties = us_counties.dropna(subset=['PCTUI', 'geometry'], axis=0)\n",
    "    us_counties = us_counties.loc[us_counties.PCTUI != \"   . \"] \n",
    "    us_all = us_counties.merge(jh3, on='FIPS', how='left')\n",
    "    \n",
    "    to_float = [ 'NIPR', 'nipr_moe', 'NUI',\n",
    "       'nui_moe', 'NIC', 'nic_moe', 'PCTUI', 'pctui_moe', 'PCTIC', 'pctic_moe',\n",
    "       'PCTELIG', 'pctelig_moe', 'PCTLIIC', 'pctliic_moe']\n",
    "    us_all[to_float] = us_all[to_float].astype(float)\n",
    "    \n",
    "    us_all = us_all.loc[(us_all.STATE_NAME != \"Alaska\") & (us_all.STATE_NAME != \"Hawaii\")]\n",
    "\n",
    "    \n",
    "    return us_all\n",
    "\n",
    "us_all = merge_all(sahi, counties, jh3)\n",
    "\n"
   ]
  },
  {
   "cell_type": "code",
   "execution_count": null,
   "metadata": {},
   "outputs": [],
   "source": [
    "def geosm(us_all, us_gdf):\n",
    "    \n",
    "    us_all1 = us_all.dropna(subset=['FIPS'], axis=0)\n",
    "    us_gdf1 = us_gdf.dropna(subset=['FIPS'], axis=0)\n",
    "    x = us_all1.to_json()\n",
    "    y = us_gdf1.to_json()\n",
    "    \n",
    "    geosource = GeoJSONDataSource(geojson = x)\n",
    "    corona = GeoJSONDataSource(geojson = y)\n",
    "    \n",
    "    return geosource, corona\n",
    "\n",
    "geosource, corona = geosm(us_all, us_gdf)"
   ]
  },
  {
   "cell_type": "code",
   "execution_count": null,
   "metadata": {},
   "outputs": [],
   "source": [
    "def state_group(us_all):\n",
    "    state = us_all.groupby('STATE_NAME')['NIPR','NUI','Confirmed','Deaths'].sum().reset_index()\n",
    "    state['pct_unin'] = state['NUI']/state['NIPR']\n",
    "    return state\n",
    "\n",
    "state = state_group(us_all)\n",
    "\n",
    "def nation_group(jht):\n",
    "    nat = jht\n",
    "    #nat = jht.loc[jht['Country/Region'] == \"US\"]\n",
    "    gr = nat.groupby('Country/Region').sum().reset_index()\n",
    "    gr.drop(columns=['Lat', 'Long'], inplace=True)\n",
    "    \n",
    "    timseries = pd.melt(gr, id_vars=['Country/Region'])\n",
    "    \n",
    "    \n",
    "    return timseries\n",
    "\n",
    "covid = nation_group(jht)"
   ]
  },
  {
   "cell_type": "code",
   "execution_count": null,
   "metadata": {},
   "outputs": [],
   "source": [
    "us_all.PCTIC.describe()"
   ]
  },
  {
   "cell_type": "code",
   "execution_count": null,
   "metadata": {},
   "outputs": [],
   "source": [
    "xs = pd.to_datetime(covid['variable'])\n",
    "ys = covid['value']"
   ]
  },
  {
   "cell_type": "code",
   "execution_count": null,
   "metadata": {},
   "outputs": [],
   "source": []
  },
  {
   "cell_type": "code",
   "execution_count": null,
   "metadata": {},
   "outputs": [],
   "source": [
    "fig, ax = plt.subplots(figsize=(10,7))\n",
    "\n",
    "us_all.plot(column='PCTUI',cmap='PuBu',ax=ax, legend=True, legend_kwds={'label':\"Uninsured Rate\",\n",
    "                       'orientation':\"horizontal\"})\n",
    "us_gdf.plot(ax=ax, color='red', markersize=.1*us_gdf['Confirmed'])\n",
    "ax.set_facecolor('#696568')\n",
    "ax.set_xlim(-125, -66.5)\n",
    "ax.set_ylim(24,50)\n",
    "fig.tight_layout()"
   ]
  },
  {
   "cell_type": "code",
   "execution_count": null,
   "metadata": {},
   "outputs": [],
   "source": []
  },
  {
   "cell_type": "code",
   "execution_count": null,
   "metadata": {},
   "outputs": [],
   "source": [
    "bins = [2, 7.41, 10.61, 14.50,34]\n",
    "labels = [1,2,3,4]\n",
    "\n",
    "us_all['pct_bin'] = pd.cut(us_all['PCTUI'], bins,labels=labels)"
   ]
  },
  {
   "cell_type": "code",
   "execution_count": null,
   "metadata": {},
   "outputs": [],
   "source": [
    "fig, ax = plt.subplots(figsize=(10,7))\n",
    "\n",
    "us_all.plot(column='pct_bin',cmap='Set2_r',ax=ax, legend=True, legend_kwds={'label':\"Uninsured Rate\",\n",
    "                       'orientation':\"horizontal\"})\n",
    "us_gdf.plot(ax=ax, color='red', markersize=.1*us_gdf['Confirmed'])\n",
    "ax.set_facecolor('white')\n",
    "ax.set_xlim(-125, -66.5)\n",
    "ax.set_ylim(24,50)\n",
    "fig.tight_layout()"
   ]
  },
  {
   "cell_type": "code",
   "execution_count": null,
   "metadata": {},
   "outputs": [],
   "source": []
  }
 ],
 "metadata": {
  "kernelspec": {
   "display_name": "Python 3",
   "language": "python",
   "name": "python3"
  },
  "language_info": {
   "codemirror_mode": {
    "name": "ipython",
    "version": 3
   },
   "file_extension": ".py",
   "mimetype": "text/x-python",
   "name": "python",
   "nbconvert_exporter": "python",
   "pygments_lexer": "ipython3",
   "version": "3.7.4"
  }
 },
 "nbformat": 4,
 "nbformat_minor": 2
}
