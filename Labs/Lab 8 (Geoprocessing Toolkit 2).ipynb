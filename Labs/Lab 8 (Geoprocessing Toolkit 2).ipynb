{
 "cells": [
  {
   "cell_type": "markdown",
   "metadata": {},
   "source": [
    "# Geoprocessing Toolkit 1"
   ]
  },
  {
   "cell_type": "code",
   "execution_count": null,
   "metadata": {},
   "outputs": [],
   "source": [
    "import os\n",
    "import pandas as pd\n",
    "import geopandas as gpd\n",
    "%matplotlib notebook\n",
    "from shapely.geometry import Point, LineString, Polygon\n",
    "from fiona.crs import from_epsg\n",
    "import matplotlib.pyplot as plt"
   ]
  },
  {
   "cell_type": "code",
   "execution_count": null,
   "metadata": {},
   "outputs": [],
   "source": [
    "pd.set_option('display.max_columns', 500)\n",
    "pd.set_option('display.max_rows', 500)"
   ]
  },
  {
   "cell_type": "markdown",
   "metadata": {},
   "source": [
    "## Everything above here should basically be standard at this point!!!\n",
    "\n",
    "![duh](https://media.giphy.com/media/aVtdz7iNVPI1W/giphy.gif)\n",
    "________________________________________"
   ]
  },
  {
   "cell_type": "markdown",
   "metadata": {},
   "source": [
    "Aite lets change the directory!"
   ]
  },
  {
   "cell_type": "code",
   "execution_count": null,
   "metadata": {},
   "outputs": [],
   "source": [
    "os.chdir('data/colombia/')"
   ]
  },
  {
   "cell_type": "markdown",
   "metadata": {},
   "source": [
    "Time to read the shapefile!! __geopandas is our library and then .read_file() is our function__\n",
    "\n",
    "![duh](https://media.giphy.com/media/y4E6VumnBbIfm/giphy.gif)\n"
   ]
  },
  {
   "cell_type": "code",
   "execution_count": null,
   "metadata": {},
   "outputs": [],
   "source": [
    "colo_shape = gpd.read_file('gadm36_COL_1.shp')"
   ]
  },
  {
   "cell_type": "markdown",
   "metadata": {},
   "source": [
    "Wanna check it out? Use .plot() or .head()"
   ]
  },
  {
   "cell_type": "code",
   "execution_count": null,
   "metadata": {
    "scrolled": true
   },
   "outputs": [],
   "source": [
    "colo_shape.plot()"
   ]
  },
  {
   "cell_type": "markdown",
   "metadata": {},
   "source": [
    "How about some tabular data? Go to \n",
    "* http://geo.aiddata.org/query/#!/\n",
    "* Select Colombia GADM\n",
    "* Adm 1 boundary\n",
    "* Add to Request\n",
    "    1. VIIRS Nighttime Lights - 2013 SUM\n",
    "    2. Drug Cultivation Sites\n",
    "    3. UCDP - 2014 SUM"
   ]
  },
  {
   "cell_type": "markdown",
   "metadata": {},
   "source": [
    "And lets rename that long csv file. How about colo.csv. Don't forget to put it into the colombia folder!"
   ]
  },
  {
   "cell_type": "code",
   "execution_count": null,
   "metadata": {},
   "outputs": [],
   "source": [
    "colo_tab = pd.read_csv('colo.csv')"
   ]
  },
  {
   "cell_type": "markdown",
   "metadata": {},
   "source": [
    "Who needed encoding? Remeber what it was? \n",
    "\n",
    "Hint: y tu brutus?"
   ]
  },
  {
   "cell_type": "markdown",
   "metadata": {},
   "source": [
    "Wanna check out this data? How about .describe(), dtypes, head/tail() "
   ]
  },
  {
   "cell_type": "code",
   "execution_count": null,
   "metadata": {
    "scrolled": false
   },
   "outputs": [],
   "source": [
    "colo_tab.describe()"
   ]
  },
  {
   "cell_type": "markdown",
   "metadata": {},
   "source": [
    "These variable names are terrible! Lets change them real quick.\n",
    "\n",
    "First we will get a list of column names."
   ]
  },
  {
   "cell_type": "code",
   "execution_count": null,
   "metadata": {},
   "outputs": [],
   "source": [
    "colo_tab.columns"
   ]
  },
  {
   "cell_type": "markdown",
   "metadata": {},
   "source": [
    "So its not every one that we need to change, just the ones that are long and we plan to use for some analysis."
   ]
  },
  {
   "cell_type": "code",
   "execution_count": null,
   "metadata": {},
   "outputs": [],
   "source": [
    "colo_tab.rename(columns = {'v4composites_calibrated_201709.2013.sum': 'lights',\n",
    "       'drugdata_categorical_201708.none.categorical_count': 'drug_count',\n",
    "       'drugdata_categorical_201708.none.categorical_none': 'drug_other',\n",
    "       'drugdata_categorical_201708.none.categorical_cannabis': 'herb',\n",
    "       'drugdata_categorical_201708.none.categorical_coca_bush': 'coke',\n",
    "       'drugdata_categorical_201708.none.categorical_opium': 'heroin',\n",
    "       'drugdata_categorical_201708.none.categorical_mix': 'drug_mix',\n",
    "       'ucdp_deaths_171.2014.sum': 'ucdp_deaths'}, inplace = True)"
   ]
  },
  {
   "cell_type": "markdown",
   "metadata": {},
   "source": [
    "Pretty easy right?!?!?\n",
    "\n",
    "![chill](https://media.giphy.com/media/TlK63Euc9KArc2a0kEw/giphy.gif)"
   ]
  },
  {
   "cell_type": "markdown",
   "metadata": {},
   "source": [
    "Lets merge the two!\n",
    "\n",
    "What column matches up between the shapefile and the tabular file?"
   ]
  },
  {
   "cell_type": "code",
   "execution_count": null,
   "metadata": {},
   "outputs": [],
   "source": [
    "colo_tab.head()"
   ]
  },
  {
   "cell_type": "code",
   "execution_count": null,
   "metadata": {},
   "outputs": [],
   "source": [
    "colo_shape.head()"
   ]
  },
  {
   "cell_type": "code",
   "execution_count": null,
   "metadata": {},
   "outputs": [],
   "source": [
    "colombia = colo_shape.merge(colo_tab, on='HASC_1', how='left')"
   ]
  },
  {
   "cell_type": "code",
   "execution_count": null,
   "metadata": {},
   "outputs": [],
   "source": [
    "colombia.head()"
   ]
  },
  {
   "cell_type": "markdown",
   "metadata": {},
   "source": [
    "Nice now we can get into actually looking at the data and using some of our geoprocessing tools!"
   ]
  },
  {
   "cell_type": "markdown",
   "metadata": {},
   "source": [
    "# Selection"
   ]
  },
  {
   "cell_type": "markdown",
   "metadata": {},
   "source": [
    "Remember we can use selection to get information about certain spatial objects or the distribution of data within these groups.\n",
    "\n",
    "Lets start by selecting which of the first administrative districts in Colombia, also known as Departments, contains the capital. \n",
    "\n",
    "1. Go to https://www.google.com/maps\n",
    "2. Type in the capital of Colombia (World Geography quiz!)\n",
    "3. Right click on the city name (or center)\n",
    "4. Click What's here?\n",
    "5. Input the latitude and longitude as a point!"
   ]
  },
  {
   "cell_type": "markdown",
   "metadata": {},
   "source": [
    "Lets make it as a pandas dataframe and use the same techique to make it a geodataframe too."
   ]
  },
  {
   "cell_type": "code",
   "execution_count": null,
   "metadata": {},
   "outputs": [],
   "source": [
    "data = {'city':['Bogota'], 'latitude':[4.5709], 'longitude':[-74.2973]}"
   ]
  },
  {
   "cell_type": "code",
   "execution_count": null,
   "metadata": {},
   "outputs": [],
   "source": [
    "cities = pd.DataFrame(data)\n",
    "city_geometry = [Point(xy) for xy in zip(cities.longitude, cities.latitude)]\n",
    "city_gdf = gpd.GeoDataFrame(cities, geometry = city_geometry)"
   ]
  },
  {
   "cell_type": "code",
   "execution_count": null,
   "metadata": {},
   "outputs": [],
   "source": [
    "colombia.crs = from_epsg(4326)\n",
    "city_gdf.crs = from_epsg(4326)"
   ]
  },
  {
   "cell_type": "code",
   "execution_count": null,
   "metadata": {},
   "outputs": [],
   "source": [
    "fig, ax = plt.subplots()\n",
    "colombia.plot(ax=ax, facecolor='gray');\n",
    "city_gdf.plot(ax=ax,color='red');\n",
    "ax.set_aspect('equal')"
   ]
  },
  {
   "cell_type": "markdown",
   "metadata": {},
   "source": [
    "![alrighty](https://media.giphy.com/media/5hc2bkC60heU/giphy.gif)"
   ]
  },
  {
   "cell_type": "markdown",
   "metadata": {},
   "source": [
    "So we can see that the point for Bogota is in fact, within Colombia. How about we select the department it is within."
   ]
  },
  {
   "cell_type": "code",
   "execution_count": null,
   "metadata": {},
   "outputs": [],
   "source": [
    "for index, row in colombia.iterrows():\n",
    "    if city_gdf.within(row['geometry']).any():\n",
    "        print(row['NAME_1_x'])"
   ]
  },
  {
   "cell_type": "markdown",
   "metadata": {},
   "source": [
    "Interesante! So now we know the department which has the capital city and we didn't even have to use google.\n",
    "\n",
    "We did the previous selection using a geospatial __location__ technique.\n",
    "\n",
    "Since we know the name of the department, now we can use an __attribute__ selection."
   ]
  },
  {
   "cell_type": "code",
   "execution_count": null,
   "metadata": {},
   "outputs": [],
   "source": [
    "cundinamarca = colombia.loc[colombia.NAME_1_x == \"Cundinamarca\"]"
   ]
  },
  {
   "cell_type": "code",
   "execution_count": null,
   "metadata": {},
   "outputs": [],
   "source": [
    "cundinamarca"
   ]
  },
  {
   "cell_type": "markdown",
   "metadata": {},
   "source": [
    "Nice! We have now done selection by both location and attribute. Lets move on to buffers."
   ]
  },
  {
   "cell_type": "markdown",
   "metadata": {},
   "source": [
    "# Buffers"
   ]
  },
  {
   "cell_type": "markdown",
   "metadata": {},
   "source": [
    "So if we notice, the district of Bogota has no deaths recorded in 2014 within the UCDP data.  But that does not neccisarily mean violence is not proximate to the capital.  How about we buffer the city by some kilometers and see what the other districts look like."
   ]
  },
  {
   "cell_type": "code",
   "execution_count": null,
   "metadata": {},
   "outputs": [],
   "source": [
    "city_copy = city_gdf.copy()\n",
    "city_copy['geometry'] = city_copy.geometry.buffer(2)"
   ]
  },
  {
   "cell_type": "code",
   "execution_count": null,
   "metadata": {
    "scrolled": false
   },
   "outputs": [],
   "source": [
    "fig, ax = plt.subplots()\n",
    "colombia.plot(ax=ax, facecolor='gray');\n",
    "city_copy.plot(ax=ax,color='red');\n",
    "ax.set_aspect('equal')"
   ]
  },
  {
   "cell_type": "markdown",
   "metadata": {},
   "source": [
    "Now that we have the buffer, lets find all the departments which intersect with this point.\n",
    "\n",
    "We use the \"intersects\" function."
   ]
  },
  {
   "cell_type": "code",
   "execution_count": null,
   "metadata": {},
   "outputs": [],
   "source": [
    "for index, row in colombia.iterrows():\n",
    "    if city_copy.intersects(row['geometry']).any():\n",
    "        print(\"'\" + str(row['NAME_1_x']) + \"'\")"
   ]
  },
  {
   "cell_type": "code",
   "execution_count": null,
   "metadata": {},
   "outputs": [],
   "source": [
    "depts= ['Antioquia','Boyacá', 'Caldas','Caquetá','Casanare',\n",
    "        'Chocó','Cundinamarca','Huila','Meta','Quindío',\n",
    "        'Risaralda','Santander','Tolima','Valle del Cauca'\n",
    "       ]"
   ]
  },
  {
   "cell_type": "markdown",
   "metadata": {},
   "source": [
    "Here we can select all these departments using the loc and isin functions."
   ]
  },
  {
   "cell_type": "code",
   "execution_count": null,
   "metadata": {},
   "outputs": [],
   "source": [
    "depts_bogota = colombia.loc[colombia.NAME_1_x.isin(depts)]"
   ]
  },
  {
   "cell_type": "code",
   "execution_count": null,
   "metadata": {},
   "outputs": [],
   "source": [
    "depts_bogota"
   ]
  },
  {
   "cell_type": "code",
   "execution_count": null,
   "metadata": {},
   "outputs": [],
   "source": [
    "depts_bogota[['drug_count', 'ucdp_deaths']].describe()"
   ]
  },
  {
   "cell_type": "code",
   "execution_count": null,
   "metadata": {},
   "outputs": [],
   "source": [
    "colombia[['drug_count', 'ucdp_deaths']].describe()"
   ]
  },
  {
   "cell_type": "markdown",
   "metadata": {},
   "source": [
    "Now we can make comparisons between these two groups of departments within Colombia regarding descriptive spatial statistics."
   ]
  },
  {
   "cell_type": "markdown",
   "metadata": {},
   "source": [
    "# Raster"
   ]
  },
  {
   "cell_type": "markdown",
   "metadata": {},
   "source": [
    "On to the raster data.  This data is slightly different than the discrete vector data we have worked with thus far.  Today we will work on importing a single raster image, displaying it, and then clipping it using a mask."
   ]
  },
  {
   "cell_type": "code",
   "execution_count": null,
   "metadata": {},
   "outputs": [],
   "source": [
    "import rasterio\n",
    "from rasterio.plot import show\n",
    "from rasterio.mask import mask\n",
    "%matplotlib inline\n",
    "import pycrs\n",
    "import json"
   ]
  },
  {
   "cell_type": "markdown",
   "metadata": {},
   "source": [
    "Many of you(probably all) will have issues with the imports.\n",
    "\n",
    "Use conda install package in the anaconda prompt,\n",
    "or use the !pip install package in the box within jupyter."
   ]
  },
  {
   "cell_type": "markdown",
   "metadata": {},
   "source": [
    "Lets start with just loading the world map we have stored in our data folder. Since we changed to the subfolder of colombia, we will need to go backwards in the directory.  We can do this with the .. as you see below."
   ]
  },
  {
   "cell_type": "code",
   "execution_count": null,
   "metadata": {},
   "outputs": [],
   "source": [
    "world = gpd.read_file('../worldmap/cshapes.shp') \n",
    "colombia_full = world.loc[world.CNTRY_NAME == \"Colombia\"]"
   ]
  },
  {
   "cell_type": "markdown",
   "metadata": {},
   "source": [
    "Ok now we use the rasterio (stands for raster input output) package and the function open, to get our raster image. These are .tif files."
   ]
  },
  {
   "cell_type": "code",
   "execution_count": null,
   "metadata": {},
   "outputs": [],
   "source": [
    "raster1 = rasterio.open('noaa/avh_1.tif')"
   ]
  },
  {
   "cell_type": "markdown",
   "metadata": {},
   "source": [
    "Just like that we have our first raster!\n",
    "\n",
    "You can find a huge repository of free and open-source rasters here:\n",
    "\n",
    "https://earthexplorer.usgs.gov/\n"
   ]
  },
  {
   "cell_type": "markdown",
   "metadata": {},
   "source": [
    "Lets just show this image as is."
   ]
  },
  {
   "cell_type": "code",
   "execution_count": null,
   "metadata": {},
   "outputs": [],
   "source": [
    "show(raster1)"
   ]
  },
  {
   "cell_type": "markdown",
   "metadata": {},
   "source": [
    "Interesting, but can we change the color scheme?\n",
    "\n",
    "Yes! Just like we did with the choropleth maps we can use the cmap choices."
   ]
  },
  {
   "cell_type": "code",
   "execution_count": null,
   "metadata": {},
   "outputs": [],
   "source": [
    "show(raster1, cmap='terrain')"
   ]
  },
  {
   "cell_type": "markdown",
   "metadata": {},
   "source": [
    "![lit](https://media.giphy.com/media/jba8ucWVAhG9VcUkx9/giphy.gif)"
   ]
  },
  {
   "cell_type": "markdown",
   "metadata": {},
   "source": [
    "Alright lets do something else, what if we don't want the entire raster but instead just a small portion.  Since the lab before we have focused on Colombia, lets go ahead and use that as our focus.\n",
    "\n",
    "First step is we can define a function to get the geometry of the mask to then apply it."
   ]
  },
  {
   "cell_type": "code",
   "execution_count": null,
   "metadata": {},
   "outputs": [],
   "source": [
    "def getmask(polygon):\n",
    "    \n",
    "    return [json.loads(polygon.to_json())['features'][0]['geometry']]"
   ]
  },
  {
   "cell_type": "markdown",
   "metadata": {},
   "source": [
    "Now lets use the full shapefile of Colombia."
   ]
  },
  {
   "cell_type": "code",
   "execution_count": null,
   "metadata": {},
   "outputs": [],
   "source": [
    "coords = getmask(colombia_full)"
   ]
  },
  {
   "cell_type": "markdown",
   "metadata": {},
   "source": [
    "Now we can use the mask function we imported to actually get the images themseleves."
   ]
  },
  {
   "cell_type": "code",
   "execution_count": null,
   "metadata": {},
   "outputs": [],
   "source": [
    "out_img, out_transform = mask(raster1, shapes=coords, crop=True)"
   ]
  },
  {
   "cell_type": "code",
   "execution_count": null,
   "metadata": {},
   "outputs": [],
   "source": [
    "out_meta = raster1.meta.copy()"
   ]
  },
  {
   "cell_type": "markdown",
   "metadata": {},
   "source": [
    "Now lets name the clipped raster file something, so we can actually write it into our folder."
   ]
  },
  {
   "cell_type": "code",
   "execution_count": null,
   "metadata": {},
   "outputs": [],
   "source": [
    "out_tif = r\"clipped_colombia.tif\""
   ]
  },
  {
   "cell_type": "code",
   "execution_count": null,
   "metadata": {},
   "outputs": [],
   "source": [
    "with rasterio.open(out_tif, \"w\", **out_meta) as dest:\n",
    "    dest.write(out_img)"
   ]
  },
  {
   "cell_type": "code",
   "execution_count": null,
   "metadata": {},
   "outputs": [],
   "source": [
    "clipped = rasterio.open(out_tif)"
   ]
  },
  {
   "cell_type": "code",
   "execution_count": null,
   "metadata": {},
   "outputs": [],
   "source": [
    "show(clipped)"
   ]
  },
  {
   "cell_type": "markdown",
   "metadata": {},
   "source": [
    "Finally lets make our plot a little prettier!"
   ]
  },
  {
   "cell_type": "code",
   "execution_count": null,
   "metadata": {},
   "outputs": [],
   "source": [
    "fig, ax = plt.subplots(figsize=(10, 5))\n",
    "show(clipped, cmap='Blues', ax=ax)\n",
    "plt.title(\"Colombia NDVI Raster\")"
   ]
  },
  {
   "cell_type": "markdown",
   "metadata": {},
   "source": [
    "### We did it!!\n",
    "\n",
    "![excited](http://giphygifs.s3.amazonaws.com/media/nNxT5qXR02FOM/giphy.gif)"
   ]
  }
 ],
 "metadata": {
  "kernelspec": {
   "display_name": "Python 3",
   "language": "python",
   "name": "python3"
  },
  "language_info": {
   "codemirror_mode": {
    "name": "ipython",
    "version": 3
   },
   "file_extension": ".py",
   "mimetype": "text/x-python",
   "name": "python",
   "nbconvert_exporter": "python",
   "pygments_lexer": "ipython3",
   "version": "3.7.4"
  }
 },
 "nbformat": 4,
 "nbformat_minor": 2
}
