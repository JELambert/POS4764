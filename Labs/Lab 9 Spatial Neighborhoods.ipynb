{
 "cells": [
  {
   "cell_type": "code",
   "execution_count": null,
   "metadata": {},
   "outputs": [],
   "source": [
    "## Basics\n",
    "import pandas as pd\n",
    "import numpy as np\n",
    "import matplotlib.pyplot as plt\n",
    "import os\n",
    "## Spatial Packages\n",
    "import geopandas as gpd\n",
    "from pylab import figure, scatter, show\n",
    "import pysal as ps\n",
    "from splot.libpysal import plot_spatial_weights\n",
    "import libpysal\n",
    "import mapclassify as mc\n",
    "import esda "
   ]
  },
  {
   "cell_type": "code",
   "execution_count": null,
   "metadata": {},
   "outputs": [],
   "source": [
    "def get_data():\n",
    "    \n",
    "    food = pd.read_csv('data/food_all.csv', encoding='latin-1')\n",
    "    food_sum = food.groupby('ccode')['pt_attempt', 'pt_suc'].sum().reset_index()\n",
    "    \n",
    "    \n",
    "    world = gpd.read_file('data/worldmap/cshapes.shp')\n",
    "    world = world.loc[world.COWEYEAR == 2016]\n",
    "    \n",
    "    base = world.merge(food_sum, left_on='COWCODE', right_on='ccode', how='left')\n",
    "    \n",
    "    region = pd.read_csv('data/codeswregions.csv')\n",
    "    \n",
    "    base = base.merge(region, on='ccode', how='left')\n",
    "    base['pt_attempt'].fillna(0, inplace=True)\n",
    "    base['pt_suc'].fillna(0, inplace=True)\n",
    "    return base\n",
    "\n",
    "df = get_data()"
   ]
  },
  {
   "cell_type": "markdown",
   "metadata": {},
   "source": [
    "Lets make some basic weights with the four basic options.\n",
    "\n",
    "1) **Contiguity** - refers to the shared vertice between two polygons.\n",
    "    * Queen - When the shared vertice has a lower threshold. Essentially any points shared.\n",
    "    * Rook - More restrictive.  The vertice must be of some minimum threshold for a spatial weight to be applied.\n",
    "2) **K nearest Neighbors** - Set a threshold of nearest neighbors which are given equal spatial weights.\n",
    "\n",
    "3) **Kernel Based** - bandwith"
   ]
  },
  {
   "cell_type": "code",
   "execution_count": null,
   "metadata": {},
   "outputs": [],
   "source": [
    "def basic_weights(shape, kernel_band = 20, kn = 4):\n",
    "    \n",
    "    queen = ps.lib.weights.contiguity.Queen.from_dataframe(shape)\n",
    "\n",
    "    rook = ps.lib.weights.contiguity.Rook.from_dataframe(shape)\n",
    "    \n",
    "    kernel = ps.lib.weights.Kernel.from_dataframe(shape, bandwidth=kernel_band)\n",
    "    \n",
    "    knn = ps.lib.weights.KNN.from_dataframe(shape, k=kn)\n",
    "    \n",
    "    return queen, rook, kernel, knn\n",
    "\n",
    "queen, rook, kernel, knn = basic_weights(df)"
   ]
  },
  {
   "cell_type": "markdown",
   "metadata": {},
   "source": [
    "Now lets take a look visually at these weights."
   ]
  },
  {
   "cell_type": "code",
   "execution_count": null,
   "metadata": {},
   "outputs": [],
   "source": [
    "def weight_plot(queen, rook, kernel, knn, base, geo=\"South America\"):\n",
    "\n",
    "    fig, ((ax1, ax2), (ax3, ax4)) = plt.subplots(2, 2, figsize=(15,15), dpi=200)\n",
    "    fig.suptitle('{} with different weights'.format(geo), fontsize=24)\n",
    "    plot_spatial_weights( queen, base,ax=ax1)\n",
    "    plot_spatial_weights( rook, base, ax=ax2)\n",
    "    plot_spatial_weights( kernel, base, ax=ax3)\n",
    "    plot_spatial_weights( knn, base, ax=ax4)\n",
    "\n",
    "    ax1.set_title(\"Queen\")\n",
    "    ax2.set_title(\"Rook\")\n",
    "    ax3.set_title(\"Kernel (Bandwith =20)\")\n",
    "    ax4.set_title(\"KNN (n = 4)\")\n",
    "    \n",
    "    if geo == \"South America\":\n",
    "\n",
    "        ax1.set_xlim(-90, -30)\n",
    "        ax1.set_ylim(-60, 20)\n",
    "        ax2.set_xlim(-90, -30)\n",
    "        ax2.set_ylim(-60, 20)\n",
    "        ax3.set_xlim(-90, -30)\n",
    "        ax3.set_ylim(-60, 20)\n",
    "        ax4.set_xlim(-90, -30)\n",
    "        ax4.set_ylim(-60, 20)\n",
    "    \n",
    "    elif geo == \"South-Eastern Asia\":\n",
    "        \n",
    "        ax1.set_xlim(80, 160)\n",
    "        ax1.set_ylim(-20, 25)\n",
    "        ax2.set_xlim(80, 160)\n",
    "        ax2.set_ylim(-20, 25)\n",
    "        ax3.set_xlim(80, 160)\n",
    "        ax3.set_ylim(-20, 25)\n",
    "        ax4.set_xlim(80, 160)\n",
    "        ax4.set_ylim(-20, 25)\n",
    "        \n",
    "    fig.tight_layout()    \n",
    "    plt.show()\n",
    "    \n",
    "weight_plot(queen,rook, kernel, knn, df)"
   ]
  },
  {
   "cell_type": "code",
   "execution_count": null,
   "metadata": {},
   "outputs": [],
   "source": [
    "weight_plot(queen, rook, kernel, knn, df, geo=\"South-Eastern Asia\")"
   ]
  },
  {
   "cell_type": "code",
   "execution_count": null,
   "metadata": {},
   "outputs": [],
   "source": [
    "non_planar = libpysal.weights.util.nonplanar_neighbors(queen, df)"
   ]
  },
  {
   "cell_type": "code",
   "execution_count": null,
   "metadata": {},
   "outputs": [],
   "source": [
    "fig, ax = plt.subplots(figsize=(10,10),dpi=80)\n",
    "plot_spatial_weights(non_planar, df, ax=ax)\n",
    "ax.set_xlim(80, 160)\n",
    "ax.set_ylim(-20, 25)"
   ]
  },
  {
   "cell_type": "code",
   "execution_count": null,
   "metadata": {},
   "outputs": [],
   "source": []
  }
 ],
 "metadata": {
  "kernelspec": {
   "display_name": "Python 3",
   "language": "python",
   "name": "python3"
  },
  "language_info": {
   "codemirror_mode": {
    "name": "ipython",
    "version": 3
   },
   "file_extension": ".py",
   "mimetype": "text/x-python",
   "name": "python",
   "nbconvert_exporter": "python",
   "pygments_lexer": "ipython3",
   "version": "3.6.7"
  }
 },
 "nbformat": 4,
 "nbformat_minor": 2
}
