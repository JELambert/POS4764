{
 "cells": [
  {
   "cell_type": "markdown",
   "metadata": {},
   "source": [
    "# Intro to Python\n",
    "\n",
    "\n",
    "Python is a programming language that is used across a broad range sectors including academic, government, and private. \n",
    "\n",
    "The first program any _good_ programmer will write is the \"Hello World\". To execute the cell just hit \"Shift + Enter\""
   ]
  },
  {
   "cell_type": "code",
   "execution_count": null,
   "metadata": {},
   "outputs": [],
   "source": [
    "print(\"Hello World\")"
   ]
  },
  {
   "cell_type": "markdown",
   "metadata": {},
   "source": [
    "Great! You just ran your first snippet of code.\n",
    "![proud](https://media.giphy.com/media/fdyZ3qI0GVZC0/giphy.gif)\n",
    "\n",
    "Now lets move on to some basics. First lets declare a variable. Lets call that variable \"my_variable\" and set it equal to 100. "
   ]
  },
  {
   "cell_type": "code",
   "execution_count": null,
   "metadata": {},
   "outputs": [],
   "source": [
    "my_variable = 100"
   ]
  },
  {
   "cell_type": "markdown",
   "metadata": {},
   "source": [
    "We now have a variable in our current environment that is set to the value we gave it. To see what that value is we just need to print that variabel."
   ]
  },
  {
   "cell_type": "code",
   "execution_count": null,
   "metadata": {},
   "outputs": [],
   "source": [
    "print(my_variable)"
   ]
  },
  {
   "cell_type": "markdown",
   "metadata": {},
   "source": [
    "## Exercise  \n",
    "Do it yourself!!"
   ]
  },
  {
   "cell_type": "code",
   "execution_count": null,
   "metadata": {},
   "outputs": [],
   "source": []
  },
  {
   "cell_type": "markdown",
   "metadata": {},
   "source": [
    "We have now learned how to declare a variable. All of the cells we have ran so far take very little computational power.  Soon we will be working with large data and execution of commands will take much longer. Lets artificially simulate some of the time. "
   ]
  },
  {
   "cell_type": "code",
   "execution_count": null,
   "metadata": {},
   "outputs": [],
   "source": [
    "import time\n",
    "time.sleep(5)"
   ]
  },
  {
   "cell_type": "markdown",
   "metadata": {},
   "source": [
    "Notice the star which resides inside the brackets to the left of the cell? It lasted for 5 seconds because we told the cell\n",
    "to sleep for 5 seconds. \n",
    "\n",
    "In order to do this we performed an import(ant) python job.  \"import\" is used to call upon modules that exist that all perform unique functions.  In this case we imported the \"time\" package. time has a function sleep, which does just what it says, it makes the execution go to sleep for a prescribed time.  Go ahead and change the 5 to another number and you can see that it will sleep for however long you tell it!"
   ]
  },
  {
   "cell_type": "markdown",
   "metadata": {},
   "source": [
    "Now that we have a basic grasp on packages and variables, lets try a function. A function is a piece of code which performs a, you guessed it, function. These are sort of the bread and butter of programming so you will become more familiar as we progress. For now lets start with something simple. "
   ]
  },
  {
   "cell_type": "code",
   "execution_count": null,
   "metadata": {},
   "outputs": [],
   "source": [
    "def my_age(age):\n",
    "    \n",
    "    return \"I really can't believe you are only {}, you look much older! jkjk\".format(age)"
   ]
  },
  {
   "cell_type": "code",
   "execution_count": null,
   "metadata": {},
   "outputs": [],
   "source": [
    "my_age(49)"
   ]
  },
  {
   "cell_type": "markdown",
   "metadata": {},
   "source": [
    "Lets break the function down into it's constituent parts.\n",
    "* def - this is the command we use in python to initiate a function. \n",
    "* my_age() - this is just the name we have given to our function. Functions must have a () immediately following the name.\n",
    "* age - again this is just a placeholder variable. We could name it something different and as long as we change it to reflect that in the next line, it would run the exact same. Just try it!\n",
    "* return - this is an important aspect of functions.  This is the command which tells the function what it is we expect in \"return\" after the function is run. "
   ]
  },
  {
   "cell_type": "markdown",
   "metadata": {},
   "source": [
    "Pretty easy right! You are well on your way to being a coder and reading all the extra stuff in the matrix!"
   ]
  },
  {
   "cell_type": "markdown",
   "metadata": {},
   "source": [
    "Ok lets venture into what is often the toughest thing to grasp formany, the directory :("
   ]
  },
  {
   "cell_type": "code",
   "execution_count": null,
   "metadata": {},
   "outputs": [],
   "source": [
    "import os"
   ]
  },
  {
   "cell_type": "code",
   "execution_count": null,
   "metadata": {},
   "outputs": [],
   "source": [
    "os.getcwd()"
   ]
  },
  {
   "cell_type": "markdown",
   "metadata": {},
   "source": [
    "As you may have guessed \"os\" stands for operating system.  This package gives us a variety of functions to interact directly with our computer. "
   ]
  },
  {
   "cell_type": "markdown",
   "metadata": {},
   "source": [
    "When you want to access the functions within a package it is oftentimes by using a \".\" that you can do so. Here we call os.getcwd() to get access to the _current working directory_. "
   ]
  },
  {
   "cell_type": "markdown",
   "metadata": {},
   "source": [
    "If you want to change it you can use the function os.chdir(). Lets change it to the data folder (this is just the folder inside what your working should be.) "
   ]
  },
  {
   "cell_type": "code",
   "execution_count": null,
   "metadata": {},
   "outputs": [],
   "source": [
    "os.chdir('data')"
   ]
  },
  {
   "cell_type": "markdown",
   "metadata": {},
   "source": [
    "This will be different for everyone working on their own computers. If we can get familiar with \n",
    "* Knowing what directory(folder) we are working in and,\n",
    "* Knowing how to change that directory to what we want\n",
    "This will alleviate a majority of _bugs_ you might face.\n",
    "\n",
    "Lets go ahead and import another package and then load in our first data!"
   ]
  },
  {
   "cell_type": "code",
   "execution_count": null,
   "metadata": {},
   "outputs": [],
   "source": [
    "import pandas as pd\n",
    "\n",
    "df = pd.read_csv('us_leader_lta.csv')"
   ]
  },
  {
   "cell_type": "markdown",
   "metadata": {},
   "source": [
    "Alright review of what we just did\n",
    "* pandas as pd - we are importing the package pandas and just naming it pd.  This is a convenience thing.  More on pandas later as its very important. \n",
    "* df - the single most stereotypical name for a _dataframe_ in history.  When you code, be more creative ;)\n",
    "* pd.read_csv - This is the pandas (pd) function for reading a csv file.  Pretty self explanatory. \n",
    "* Be sure to put file names in ''.\n",
    "\n",
    "So we got our first data loaded in. Lets check out whats inside."
   ]
  },
  {
   "cell_type": "code",
   "execution_count": null,
   "metadata": {},
   "outputs": [],
   "source": [
    "df.head()"
   ]
  },
  {
   "cell_type": "code",
   "execution_count": null,
   "metadata": {},
   "outputs": [],
   "source": [
    "df.describe()"
   ]
  },
  {
   "cell_type": "code",
   "execution_count": null,
   "metadata": {},
   "outputs": [],
   "source": [
    "df.columns"
   ]
  },
  {
   "cell_type": "markdown",
   "metadata": {},
   "source": [
    "Alright so we loaded up data on US Presidents Psychology.  Cool right?! Function review:\n",
    "* .head() - This shows us the first 5 rows. If we put inside .head(10), it would show us the first ten rows. O and if you want to see the last rows that would be .tail().\n",
    "* .describe() - Just some basic descriptives. \n",
    "* .columns - names of your columns.\n",
    "\n",
    "Here we have a basic data frame (just like an excel).  Except now we have all the tools of python to investigate, manipulate, and visualize it. "
   ]
  },
  {
   "cell_type": "code",
   "execution_count": null,
   "metadata": {},
   "outputs": [],
   "source": [
    "df.dtypes"
   ]
  },
  {
   "cell_type": "markdown",
   "metadata": {},
   "source": [
    "It is always good to get a feel for what the data you are working with looks like.  One important technique for telling what kind of data you have is to use .dtypes\n",
    "\n",
    "This shows you what type of data is each variable.\n",
    "* Object - These are string data like names.\n",
    "* int64 - These are whole numbers like 10, 20, 1000.\n",
    "* float64 - These are numbers with decimals like 0.54, 9.44, 1000.2002\n",
    "\n",
    "Now that we have taken a peak at our data lets begin to think like a computational social scientist. \n",
    "What sorts of relationships do we think exist? \n",
    "What patterns do we expect to see in the data?\n",
    "\n",
    "Lets pick two variables and start investigating. How about a president's level of distrust and their conceptual complextity(cc)\n",
    "\n",
    "A fun and visualing appealing way to start exploring is to make some plots."
   ]
  },
  {
   "cell_type": "code",
   "execution_count": null,
   "metadata": {},
   "outputs": [],
   "source": [
    "%matplotlib notebook\n",
    "import matplotlib.pyplot as plt"
   ]
  },
  {
   "cell_type": "code",
   "execution_count": null,
   "metadata": {},
   "outputs": [],
   "source": [
    "fig, ax = plt.subplots(1,2)\n",
    "ax[0].boxplot(df['cc'], patch_artist=True)\n",
    "ax[1].boxplot(df['distrust'],patch_artist=True)\n",
    "ax[0].set_title('Conceptual Complexity')\n",
    "ax[1].set_title('Level of Distrust')\n",
    "plt.show()"
   ]
  },
  {
   "cell_type": "markdown",
   "metadata": {
    "collapsed": true
   },
   "source": [
    "Interesting! While we knew the average(Orange line) of thes two variables from our .describe step, we did not visually see a clear outlier.  Both Distrust and conceptual complexity have an outlier (as an aside if you have not read outliers by Malcolm Gladwell I would recommend it) represented by the circle.  \n",
    "\n",
    "A high outlier on the distrust scale means that some president is particularly distrustful. Low on the conceptual complexity scale means that a president speaks in absolutes rather than allowing for any gray or middle ground. Let's find out who each of these are by looking at some of the high and low in each group. "
   ]
  },
  {
   "cell_type": "code",
   "execution_count": null,
   "metadata": {},
   "outputs": [],
   "source": [
    "df['name'] = df['firstname'] + \" \" + df['lastname']\n",
    "df = df.set_index('name')\n",
    "df['distrust'].nlargest(1).reset_index()"
   ]
  },
  {
   "cell_type": "markdown",
   "metadata": {},
   "source": [
    "So James Madison was the most distrusting president! Let's see who was the lowest on conceptual complexity."
   ]
  },
  {
   "cell_type": "code",
   "execution_count": null,
   "metadata": {},
   "outputs": [],
   "source": [
    "df['cc'].nsmallest(1).reset_index()"
   ]
  },
  {
   "cell_type": "markdown",
   "metadata": {},
   "source": [
    "Donald Trump is the lowest on the conceptual complexity score! We now know a little more about the psychological charicteristics of the presidents and along the way we learned how to code! These are just a few of the tools at your disposal as a python programmer.  In the next lab we will expand on our data set utilization and dive into spatial data types!"
   ]
  },
  {
   "cell_type": "markdown",
   "metadata": {},
   "source": [
    "# !!BONUS PYTHON!!\n",
    "\n",
    "\n",
    "![Bonus](https://media.giphy.com/media/l0HUjp8V93sygGziE/giphy.gif)"
   ]
  },
  {
   "cell_type": "code",
   "execution_count": null,
   "metadata": {},
   "outputs": [],
   "source": [
    "## Comments are those with a hashtag and don't run in the code\n",
    "## Lists are another type of python object. Lets go with a list of presidents names. First we will create it, then\n",
    "## I will extract a list from our data frame.\n",
    "## When creating a list use []\n",
    "pres_list = ['trump', 'obama', 'bush', 'clinton']"
   ]
  },
  {
   "cell_type": "code",
   "execution_count": null,
   "metadata": {},
   "outputs": [],
   "source": [
    "## For the extracted list\n",
    "df = df.reset_index()\n",
    "pres_list2 = list(df.name.unique())"
   ]
  },
  {
   "cell_type": "code",
   "execution_count": null,
   "metadata": {},
   "outputs": [],
   "source": [
    "## Lets print these lists \n",
    "pres_list"
   ]
  },
  {
   "cell_type": "code",
   "execution_count": null,
   "metadata": {},
   "outputs": [],
   "source": [
    "pres_list2"
   ]
  },
  {
   "cell_type": "code",
   "execution_count": null,
   "metadata": {},
   "outputs": [],
   "source": [
    "## Nice! how about a loop?\n",
    "for president in pres_list:\n",
    "    print(president)"
   ]
  },
  {
   "cell_type": "code",
   "execution_count": null,
   "metadata": {},
   "outputs": [],
   "source": [
    "## Ok lets print only the first name of all presidents in the big list\n",
    "for president in pres_list2:\n",
    "    print(president.split(\" \",)[0])"
   ]
  }
 ],
 "metadata": {
  "kernelspec": {
   "display_name": "Python 3",
   "language": "python",
   "name": "python3"
  },
  "language_info": {
   "codemirror_mode": {
    "name": "ipython",
    "version": 3
   },
   "file_extension": ".py",
   "mimetype": "text/x-python",
   "name": "python",
   "nbconvert_exporter": "python",
   "pygments_lexer": "ipython3",
   "version": "3.6.7"
  }
 },
 "nbformat": 4,
 "nbformat_minor": 2
}
