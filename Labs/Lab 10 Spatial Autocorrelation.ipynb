{
 "cells": [
  {
   "cell_type": "code",
   "execution_count": null,
   "metadata": {},
   "outputs": [],
   "source": [
    "## Basics\n",
    "import pandas as pd\n",
    "import numpy as np\n",
    "import matplotlib.pyplot as plt\n",
    "import os\n",
    "## Spatial Packages\n",
    "import geopandas as gpd\n",
    "from pylab import figure, scatter, show\n",
    "import pysal as ps\n",
    "from splot.libpysal import plot_spatial_weights\n",
    "import libpysal\n",
    "import mapclassify as mc\n",
    "import esda \n"
   ]
  },
  {
   "cell_type": "markdown",
   "metadata": {},
   "source": [
    "Get some data. We have been using the: \n",
    "* food \n",
    "* cshapes\n",
    "\n",
    "But now lets also use the region file, so we can look at regions if we want."
   ]
  },
  {
   "cell_type": "code",
   "execution_count": null,
   "metadata": {},
   "outputs": [],
   "source": [
    "def get_data():\n",
    "    \n",
    "    food = pd.read_csv('data/food_all.csv', encoding='latin-1')\n",
    "    food_sum = food.groupby('ccode')['pt_attempt', 'pt_suc'].sum().reset_index()\n",
    "    \n",
    "    \n",
    "    world = gpd.read_file('data/worldmap/cshapes.shp')\n",
    "    world = world.loc[world.COWEYEAR == 2016]\n",
    "    \n",
    "    base = world.merge(food_sum, left_on='COWCODE', right_on='ccode', how='left')\n",
    "    \n",
    "    region = pd.read_csv('data/codeswregions.csv')\n",
    "    \n",
    "    base = base.merge(region, on='ccode', how='left')\n",
    "    base['pt_attempt'].fillna(0, inplace=True)\n",
    "    base['pt_suc'].fillna(0, inplace=True)\n",
    "    return base\n",
    "\n",
    "df = get_data()"
   ]
  },
  {
   "cell_type": "markdown",
   "metadata": {},
   "source": [
    "Quick plot of pt_attempt which are coups"
   ]
  },
  {
   "cell_type": "code",
   "execution_count": null,
   "metadata": {},
   "outputs": [],
   "source": [
    "fig, ax= plt.subplots(figsize=(15,10), dpi=120)\n",
    "df.plot(column='pt_attempt', ax=ax, legend=True, legend_kwds={'orientation':\n",
    "                                                              'horizontal'})\n",
    "plt.title(\"Total Coups\")\n",
    "ax.set_aspect('equal')"
   ]
  },
  {
   "cell_type": "markdown",
   "metadata": {},
   "source": [
    "Zoom in on SEASIA with ax.set_xlim and ax.set_ylim"
   ]
  },
  {
   "cell_type": "code",
   "execution_count": null,
   "metadata": {},
   "outputs": [],
   "source": [
    "fig, ax= plt.subplots(figsize=(15,10), dpi=120)\n",
    "df.plot(column='pt_attempt', ax=ax, legend=True)\n",
    "plt.title(\"Total Coups\")\n",
    "ax.set_xlim(50,150)\n",
    "ax.set_ylim(-20,40)\n",
    "ax.set_aspect('equal')"
   ]
  },
  {
   "cell_type": "markdown",
   "metadata": {},
   "source": [
    "Instead of a continuous variable for coups, lets bin it qith the scheme='Quantiles' feature"
   ]
  },
  {
   "cell_type": "code",
   "execution_count": null,
   "metadata": {},
   "outputs": [],
   "source": [
    "fig, ax= plt.subplots(figsize=(15,10), dpi=120)\n",
    "df.plot(column='pt_attempt',  edgecolor='black',scheme='Quantiles', k=5, cmap='GnBu',legend=True,ax=ax)\n",
    "plt.title(\"Total Coups\")\n",
    "ax.set_aspect('equal')\n"
   ]
  },
  {
   "cell_type": "markdown",
   "metadata": {},
   "source": [
    "Make the weights like in the neighborhoods exercise"
   ]
  },
  {
   "cell_type": "code",
   "execution_count": null,
   "metadata": {},
   "outputs": [],
   "source": [
    "def basic_weights(shape, kernel_band = 20, kn = 5):\n",
    "    \n",
    "    queen = ps.lib.weights.contiguity.Queen.from_dataframe(shape)\n",
    "    queen.transform = 'r'\n",
    "    \n",
    "    rook = ps.lib.weights.contiguity.Rook.from_dataframe(shape)\n",
    "    rook.transform = 'r'\n",
    "    \n",
    "    kernel = ps.lib.weights.Kernel.from_dataframe(shape, bandwidth=kernel_band)\n",
    "    kernel.transform = 'r'\n",
    "    \n",
    "    knn = ps.lib.weights.KNN.from_dataframe(shape, k=kn)\n",
    "    knn.transform = 'r'\n",
    "    \n",
    "    return queen, rook, kernel, knn\n",
    "\n",
    "queen, rook, kernel, knn = basic_weights(df)"
   ]
  },
  {
   "cell_type": "markdown",
   "metadata": {},
   "source": [
    "Lets make a spatial lag!"
   ]
  },
  {
   "cell_type": "code",
   "execution_count": null,
   "metadata": {},
   "outputs": [],
   "source": [
    "y = df['pt_attempt']\n",
    "\n",
    "ylag = ps.lib.weights.lag_spatial(queen, y)"
   ]
  },
  {
   "cell_type": "markdown",
   "metadata": {},
   "source": [
    "That's it, all you have to do is pass the lag_spatial both the variable you want to lag: y\n",
    "\n",
    "and the neighborhood weight:\n",
    "queen\n",
    "\n",
    "We can make some quantiles now and plot"
   ]
  },
  {
   "cell_type": "code",
   "execution_count": null,
   "metadata": {},
   "outputs": [],
   "source": [
    "ylagq5 = mc.Quantiles(ylag, k=5)"
   ]
  },
  {
   "cell_type": "code",
   "execution_count": null,
   "metadata": {},
   "outputs": [],
   "source": [
    "df['ylag_q'] = ylag"
   ]
  },
  {
   "cell_type": "code",
   "execution_count": null,
   "metadata": {},
   "outputs": [],
   "source": [
    "fig, ax= plt.subplots(figsize=(15,10), dpi=120)\n",
    "df.assign(ylag_queen=ylagq5.yb).plot(column='ylag_queen', edgecolor='black',categorical=True, k=5, cmap='GnBu',\n",
    "                                 legend=True,ax=ax)\n",
    "plt.title(\"Total Coups\")\n",
    "ax.set_aspect('equal')"
   ]
  },
  {
   "cell_type": "markdown",
   "metadata": {},
   "source": [
    "Lets plot with both coups, and the spatial lag so we can see them together."
   ]
  },
  {
   "cell_type": "code",
   "execution_count": null,
   "metadata": {},
   "outputs": [],
   "source": [
    "fig, (ax1,ax2)= plt.subplots(figsize=(24,15), dpi=160, nrows=2)\n",
    "\n",
    "df.plot(column='ylag_q', edgecolor='black',scheme='Quantiles', k=5, cmap='GnBu',\n",
    "                                 legend=True,ax=ax2)\n",
    "\n",
    "df.plot(column='pt_attempt',  edgecolor='black',scheme='Quantiles', k=5, cmap='GnBu',\n",
    "          legend=True,ax=ax1)\n",
    "\n",
    "ax2.set_title(\"Coup Spatial Lag\")\n",
    "ax1.set_title(\"Total Coups\")\n",
    "ax1.set_aspect('equal')\n",
    "ax2.set_aspect('equal')"
   ]
  },
  {
   "cell_type": "markdown",
   "metadata": {},
   "source": [
    "# Moran's I"
   ]
  },
  {
   "cell_type": "markdown",
   "metadata": {},
   "source": [
    "Again we just need the lag and the neighborhood"
   ]
  },
  {
   "cell_type": "code",
   "execution_count": null,
   "metadata": {},
   "outputs": [],
   "source": [
    "np.random.seed(7)\n",
    "mi = esda.moran.Moran(y, queen)\n"
   ]
  },
  {
   "cell_type": "code",
   "execution_count": null,
   "metadata": {},
   "outputs": [],
   "source": [
    "print(\"Moran's I Coefficient: \")\n",
    "mi.I"
   ]
  },
  {
   "cell_type": "code",
   "execution_count": null,
   "metadata": {},
   "outputs": [],
   "source": [
    "print(\"Moran's I P Values: \")\n",
    "mi.p_sim"
   ]
  },
  {
   "cell_type": "markdown",
   "metadata": {},
   "source": [
    "# LISA"
   ]
  },
  {
   "cell_type": "code",
   "execution_count": null,
   "metadata": {},
   "outputs": [],
   "source": [
    "coups = df['pt_attempt']\n",
    "li = esda.moran.Moran_Local(coups, queen)"
   ]
  },
  {
   "cell_type": "code",
   "execution_count": null,
   "metadata": {},
   "outputs": [],
   "source": [
    "sig = 1 * (li.p_sim < 0.05)\n",
    "hotspot = 1 * (sig * li.q==1)\n",
    "coldspot = 3 * (sig * li.q==3)\n",
    "doughnut = 2 * (sig * li.q==2)\n",
    "diamond = 4 * (sig * li.q==4)\n",
    "spots = hotspot + coldspot + doughnut + diamond\n",
    "spots"
   ]
  },
  {
   "cell_type": "code",
   "execution_count": null,
   "metadata": {},
   "outputs": [],
   "source": [
    "sig = li.p_sim < 0.05\n",
    "hotspot = sig * li.q==1\n",
    "coldspot = sig * li.q==3\n",
    "doughnut = sig * li.q==2\n",
    "diamond = sig * li.q==4"
   ]
  },
  {
   "cell_type": "code",
   "execution_count": null,
   "metadata": {},
   "outputs": [],
   "source": [
    "spot_labels = [ 'Not Significant', 'Hot Spot', 'Doughnut', 'Cold Spot', 'Diamond']\n",
    "labels = [spot_labels[i] for i in spots]"
   ]
  },
  {
   "cell_type": "code",
   "execution_count": null,
   "metadata": {},
   "outputs": [],
   "source": [
    "from matplotlib import colors\n",
    "hmap = colors.ListedColormap(['#80b1d3','#bebada', '#8dd3c7', '#fb8072', '#ffffb3'])\n",
    "\n",
    "\n",
    "fig, ax= plt.subplots(figsize=(15,10), dpi=120)\n",
    "df.assign(cl=labels).plot(column='cl', categorical=True, \\\n",
    "        k=2, cmap=hmap, linewidth=0.1, ax=ax, \\\n",
    "        edgecolor='black', legend=True)\n",
    "#ax.set_facecolor('black')\n",
    "plt.title('Local Spatial Autocorrelation')\n",
    "plt.show()"
   ]
  },
  {
   "cell_type": "code",
   "execution_count": null,
   "metadata": {},
   "outputs": [],
   "source": [
    "fig, ax= plt.subplots(figsize=(15,10), dpi=150)\n",
    "df.assign(cl=labels).plot(column='cl', categorical=True, \\\n",
    "        k=2, cmap=hmap, linewidth=0.1, ax=ax, \\\n",
    "        edgecolor='black', legend=True)\n",
    "#ax.set_facecolor('black')\n",
    "plt.title('Local Spatial Autocorrelation', fontsize=22, y=1.08)\n",
    "ax.set_xlim(-90, -30)\n",
    "ax.set_ylim(-60, 20)\n",
    "\n",
    "plt.show()"
   ]
  },
  {
   "cell_type": "code",
   "execution_count": null,
   "metadata": {
    "scrolled": false
   },
   "outputs": [],
   "source": [
    "fig, ax= plt.subplots(figsize=(15,10), dpi=150)\n",
    "df.assign(cl=labels).plot(column='cl', categorical=True, \\\n",
    "        k=2, cmap=hmap, linewidth=0.1, ax=ax, \\\n",
    "        edgecolor='black', legend=True)\n",
    "#ax.set_facecolor('black')\n",
    "plt.title('Local Spatial Autocorrelation', fontsize=22, y=1.08)\n",
    "ax.set_xlim(-22, 50)\n",
    "ax.set_ylim(0, 40)\n",
    "plt.show()\n"
   ]
  },
  {
   "cell_type": "code",
   "execution_count": null,
   "metadata": {},
   "outputs": [],
   "source": []
  }
 ],
 "metadata": {
  "kernelspec": {
   "display_name": "Python 3",
   "language": "python",
   "name": "python3"
  },
  "language_info": {
   "codemirror_mode": {
    "name": "ipython",
    "version": 3
   },
   "file_extension": ".py",
   "mimetype": "text/x-python",
   "name": "python",
   "nbconvert_exporter": "python",
   "pygments_lexer": "ipython3",
   "version": "3.6.7"
  }
 },
 "nbformat": 4,
 "nbformat_minor": 2
}
