{
 "cells": [
  {
   "cell_type": "markdown",
   "metadata": {},
   "source": [
    "# Lab 2\n",
    "\n",
    "## Spatial Object and Data Types (Vector)\n",
    "\n",
    "To start off we need to import some pivotal packages you will be working with this semester; shapely, pandas and geopandas"
   ]
  },
  {
   "cell_type": "markdown",
   "metadata": {},
   "source": [
    "Shapely documentation: https://shapely.readthedocs.io/en/latest/ \n",
    "\n",
    "Pandas documentation: https://pandas.pydata.org/\n",
    "\n",
    "GeoPandas documentation: http://geopandas.org/\n",
    "\n",
    "Shapely is the all-around geometrical library, Pandas is great for working with tabular data, and GeoPandas is its spatial sibling!"
   ]
  },
  {
   "cell_type": "code",
   "execution_count": null,
   "metadata": {},
   "outputs": [],
   "source": [
    "import os\n",
    "import pandas as pd\n",
    "import geopandas as gpd\n",
    "from shapely.geometry import Point, LineString, Polygon"
   ]
  },
  {
   "cell_type": "markdown",
   "metadata": {},
   "source": [
    "If you get an error like \"package doesn't exist\" or the like, then we need to load that package.  Please look in the guide folder for the _download package_ file.  Follow instructions for all packages you need to download. Probably just geopandas but maybe shapely too. Use pip!"
   ]
  },
  {
   "cell_type": "markdown",
   "metadata": {},
   "source": [
    "Now that we have all the packages loaded in correctly, lets try and access some documentation another way. Within the python shell it is possible to access information from within the package itself. Lets specify a few here. "
   ]
  },
  {
   "cell_type": "code",
   "execution_count": null,
   "metadata": {},
   "outputs": [],
   "source": []
  },
  {
   "cell_type": "markdown",
   "metadata": {},
   "source": [
    "As you can see, accessing documentation is as simple as using the help() function.  You can then dive into specific functions within a library by using the. So to access documentation on the geodataframe object we use the \"gpd.geodataframe\"."
   ]
  },
  {
   "cell_type": "markdown",
   "metadata": {},
   "source": [
    "### Spatial Objects"
   ]
  },
  {
   "cell_type": "markdown",
   "metadata": {},
   "source": [
    "As we discussed in the previous lecture, vectors include three basic types of spatial objects. Lets go ahead and get started on the first one; Points. "
   ]
  },
  {
   "cell_type": "markdown",
   "metadata": {},
   "source": [
    "### Points"
   ]
  },
  {
   "cell_type": "markdown",
   "metadata": {},
   "source": [
    "A point is very basically: a discrete location that is geographically defined by its coordinates.  We will discuss coordinate planes at a later point but for now the key information that defines a point is:\n",
    "* Latitude - North vs. South Position (0 - 90 Degrees)\n",
    "* Longitude - East vs. West position (0 - 180 Degress)\n"
   ]
  },
  {
   "cell_type": "markdown",
   "metadata": {},
   "source": [
    "You can create a point object using Shapely."
   ]
  },
  {
   "cell_type": "code",
   "execution_count": null,
   "metadata": {},
   "outputs": [],
   "source": [
    "my_first_point = Point(7.4, 1.3)"
   ]
  },
  {
   "cell_type": "markdown",
   "metadata": {},
   "source": [
    "While not typically something you will do later in your programming development, it is always good to make sure you know exactly what type of object you are dealing with.  Particularly after instantiating one. For any object in python you can use the built in function:\n",
    "\n",
    "type(parameter)\n",
    "\n",
    "This will provide you with the type of the object passed into the parameter space. Pretty basic but it will help you to make sure you actually have the right type of object after you communicate it to python. "
   ]
  },
  {
   "cell_type": "code",
   "execution_count": null,
   "metadata": {},
   "outputs": [],
   "source": [
    "print(type(my_first_point))"
   ]
  },
  {
   "cell_type": "markdown",
   "metadata": {},
   "source": [
    "The Point() class is used from the shapely package to create a point.  You can pass this class x,y and even z coordinates for three-dimensional spaces. For now we are going to keep things simple with just the xy coordinates. \n",
    "\n",
    "Point objects have a variety of attributes that are stored. To access the coordinates for instances you can use .xy, or just .x or .y."
   ]
  },
  {
   "cell_type": "code",
   "execution_count": null,
   "metadata": {},
   "outputs": [],
   "source": [
    "my_first_point.x"
   ]
  },
  {
   "cell_type": "code",
   "execution_count": null,
   "metadata": {},
   "outputs": [],
   "source": [
    "my_first_point.y"
   ]
  },
  {
   "cell_type": "markdown",
   "metadata": {},
   "source": [
    "Anyone remember junior high or high school algebra? X's always go first and Y's always go second.  So when we said Point(7.4, 1.3) we were really telling python Point(x,y). Also you can think of these when we start projecting them onto a coordinate plane (Map) as longitude(x) and latitude(y). As mentioned before longitude is east/west and latitude is north/south. "
   ]
  },
  {
   "cell_type": "markdown",
   "metadata": {},
   "source": [
    "### Lines\n",
    "\n",
    "Lines are the next basic type of spatial data. This can be a variety of things like railroads, highways and rivers. Lets start with making our own line. In shapely lines are called LineString."
   ]
  },
  {
   "cell_type": "code",
   "execution_count": null,
   "metadata": {},
   "outputs": [],
   "source": []
  },
  {
   "cell_type": "code",
   "execution_count": null,
   "metadata": {},
   "outputs": [],
   "source": [
    "my_first_line = LineString([(0, 2), (2, 2), (4, 2)])"
   ]
  },
  {
   "cell_type": "markdown",
   "metadata": {},
   "source": [
    "Print the type and lets make sure it is the right object."
   ]
  },
  {
   "cell_type": "code",
   "execution_count": null,
   "metadata": {},
   "outputs": [],
   "source": [
    "print(type(my_first_line))"
   ]
  },
  {
   "cell_type": "markdown",
   "metadata": {},
   "source": [
    "Lines also contain a variety of attributes. Since this object is in essence a list of points (also can be refered to as tuples), you can access specific points by using python indexing. Lets call all X values by using the index value for the first element.  (Remeber 0 is always the first object)"
   ]
  },
  {
   "cell_type": "code",
   "execution_count": null,
   "metadata": {},
   "outputs": [],
   "source": [
    "first_line_xs = my_first_line.xy[0]"
   ]
  },
  {
   "cell_type": "code",
   "execution_count": null,
   "metadata": {},
   "outputs": [],
   "source": [
    "first_line_xs"
   ]
  },
  {
   "cell_type": "markdown",
   "metadata": {},
   "source": [
    "As you can see here all of the first values within each tuple [(x1,y1), (x2,y2), (x3,y3)] are printed.  So our array is [x1, x2, x3]."
   ]
  },
  {
   "cell_type": "markdown",
   "metadata": {},
   "source": [
    "## Polygons\n",
    "\n",
    "Finally a major feature in spatial data is the polygon.  These are the units which most data is aggregated into. As we talked about before these include things like countries, states, or counties. Lets make our first polygon object."
   ]
  },
  {
   "cell_type": "code",
   "execution_count": null,
   "metadata": {},
   "outputs": [],
   "source": [
    "my_first_polygon = Polygon([(2, 2), (6, 8), (-4, 8)])"
   ]
  },
  {
   "cell_type": "markdown",
   "metadata": {},
   "source": [
    "But wait!? I thought lines were tuple pairs, how can a polygon be the same format? Good question! The answer lies in the definition of the class; LineString vs Polygon. So when we specify a LineString we are telling python that the given tuple pairs (coordinates) begin with the first value, then proceed through each subsequent point, and end at the last value. It's like a race that starts and ends in different places.  \n",
    "\n",
    "A Polygon however, is something that is enclosed, think of an oval track.  It does not start and end in the same sense as a line because the circuit (Any EE/CE people?) is closed.  When we specify a Polygon we are telling python these coordinates define the outside of some bounded object.\n",
    "\n",
    "Lets check on the type to make sure we got it right."
   ]
  },
  {
   "cell_type": "code",
   "execution_count": null,
   "metadata": {},
   "outputs": [],
   "source": [
    "print(type(my_first_polygon))\n",
    "print(my_first_polygon.geom_type)"
   ]
  },
  {
   "cell_type": "markdown",
   "metadata": {},
   "source": [
    "Great so we have now defined our first point, line, and polygon.\n",
    "\n",
    "Lets put it all together and plot it!\n",
    "\n",
    "We are going to skip over the specifics of matplotlib again for now but just know: \n",
    "1. Its a library\n",
    "2. %matplotlib notebook allows for you to utilize this library in a particularly useful/interactive way when using and ipython kernel."
   ]
  },
  {
   "cell_type": "code",
   "execution_count": null,
   "metadata": {},
   "outputs": [],
   "source": [
    "%matplotlib notebook\n",
    "import matplotlib.pyplot as plt"
   ]
  },
  {
   "cell_type": "code",
   "execution_count": null,
   "metadata": {},
   "outputs": [],
   "source": [
    "fig, ax = plt.subplots(1, figsize=(4, 4))\n",
    "plt.scatter(my_first_point.x,my_first_point.y)\n",
    "plt.plot(my_first_line.xy[0], my_first_line.xy[1])\n",
    "plt.plot(my_first_polygon.exterior.xy[0], my_first_polygon.exterior.xy[1])\n",
    "plt.ylabel(\"Y - Coordinates\")\n",
    "plt.xlabel(\"X - Coordinates\")\n",
    "plt.title(\"My First Spatial Objects Plot\")"
   ]
  },
  {
   "cell_type": "markdown",
   "metadata": {},
   "source": [
    "So what are we looking at here? Let's put all our data together. We know that our:\n",
    "* point = (7.4, 1.3)\n",
    "* line = [(0, 2), (2, 2), (4, 2)]\n",
    "* polygon = [(2, 2), (6, 8), (-4, 8)]\n",
    "\n",
    "So does our data show this? Yes! Congrats you are now basically a GIS expert. Lets go into depth what exactly we did when plotting these spatial objects.\n",
    "\n"
   ]
  },
  {
   "cell_type": "markdown",
   "metadata": {},
   "source": [
    "Notice how for each of the objects we used an attribute function to get the feature we wanted specifically.\n",
    "* For the point we called .x and .y to extract the specific point.\n",
    "* For the line we called .xy[0] to get the list of x's, and .xy[1] to get the list of y's.\n",
    "* For the polygon we only wanted to see the exterior of the object so we called .exterior.xy[0] for all x's and .exterior.xy[1] for all the y's.\n",
    "\n",
    "We have done the boring stuff, lets transition over to some practical application with spatial objects and different data types. "
   ]
  },
  {
   "cell_type": "markdown",
   "metadata": {},
   "source": [
    "# Application - Florida"
   ]
  },
  {
   "cell_type": "code",
   "execution_count": null,
   "metadata": {},
   "outputs": [],
   "source": [
    "## Check what folder we are currently in\n",
    "os.getcwd()\n"
   ]
  },
  {
   "cell_type": "code",
   "execution_count": null,
   "metadata": {},
   "outputs": [],
   "source": [
    "## Lets load into the needed folder for this work.\n",
    "os.chdir('data/Florida')"
   ]
  },
  {
   "cell_type": "code",
   "execution_count": null,
   "metadata": {},
   "outputs": [],
   "source": [
    "os.listdir()"
   ]
  },
  {
   "cell_type": "markdown",
   "metadata": {},
   "source": [
    "First thing we want to do is load in our base file.  We are going to be looking at Florida for this brief application. Shapefiles have an extension of .shp. Shapefiles also only work if their accompanying files are also present in the folder which you are loading them from. (These can include .shx, .dbf, .prj, .xml, .sbn, .sbx, .cpg)"
   ]
  },
  {
   "cell_type": "code",
   "execution_count": null,
   "metadata": {},
   "outputs": [],
   "source": [
    "florida = gpd.read_file('florida.shp') "
   ]
  },
  {
   "cell_type": "markdown",
   "metadata": {},
   "source": [
    "To load our data, all we need is the gpd.read_file function. Then we just pass the name of the shapefile in single quotes. "
   ]
  },
  {
   "cell_type": "markdown",
   "metadata": {},
   "source": [
    "Now that we know a little more about geopandas input file types, lets take a look at the data we loaded in as florida. Easiest thing to do first is to plot it out. "
   ]
  },
  {
   "cell_type": "code",
   "execution_count": null,
   "metadata": {},
   "outputs": [],
   "source": [
    "florida.plot()"
   ]
  },
  {
   "cell_type": "markdown",
   "metadata": {},
   "source": [
    "Yep that looks like florida.  Also notice that longitude and latitude occupy the x and y coordinates. Great we've loaded in a polygon, lets see what the data inside our file looks like."
   ]
  },
  {
   "cell_type": "code",
   "execution_count": null,
   "metadata": {
    "scrolled": true
   },
   "outputs": [],
   "source": [
    "florida.head()"
   ]
  },
  {
   "cell_type": "markdown",
   "metadata": {},
   "source": [
    "This shapefile comes from the natural earth data. It has a variety of information stored within it other than the spatial components of florida. Things like and administrative code, wikipedia link, alternative language names, and most importantly the geometry column. This column is the one that gives us the important geospatial components. Lets see what else we can do with this data."
   ]
  },
  {
   "cell_type": "code",
   "execution_count": null,
   "metadata": {},
   "outputs": [],
   "source": [
    "## The middle point of Florida\n",
    "florida.centroid"
   ]
  },
  {
   "cell_type": "code",
   "execution_count": null,
   "metadata": {},
   "outputs": [],
   "source": [
    "## The outer bounds of Florida\n",
    "florida.bounds"
   ]
  },
  {
   "cell_type": "markdown",
   "metadata": {},
   "source": [
    "Now lets load in some more data."
   ]
  },
  {
   "cell_type": "code",
   "execution_count": null,
   "metadata": {},
   "outputs": [],
   "source": [
    "roads = gpd.read_file('florida_roads.shp')"
   ]
  },
  {
   "cell_type": "code",
   "execution_count": null,
   "metadata": {},
   "outputs": [],
   "source": [
    "roads.plot()"
   ]
  },
  {
   "cell_type": "markdown",
   "metadata": {},
   "source": [
    "The roads of florida do a good job of outlining the state itself. This makes sense as many of Florida's major cities are on a coastline (Orlando being an outlier). So the road system will likely connect these exterior units. Let's see what this data looks like."
   ]
  },
  {
   "cell_type": "code",
   "execution_count": null,
   "metadata": {},
   "outputs": [],
   "source": [
    "roads.head()"
   ]
  },
  {
   "cell_type": "markdown",
   "metadata": {},
   "source": [
    "Hmm interesting.  It looks like this data contains a number of different types of roads. Lets take a look at these and narrow it down to only the major interstates (like I-4, I-95, and I-10)."
   ]
  },
  {
   "cell_type": "code",
   "execution_count": null,
   "metadata": {},
   "outputs": [],
   "source": [
    "roads['type'].unique()"
   ]
  },
  {
   "cell_type": "code",
   "execution_count": null,
   "metadata": {},
   "outputs": [],
   "source": [
    "interstates = roads.loc[roads['type'] == \"Major Highway\"]"
   ]
  },
  {
   "cell_type": "code",
   "execution_count": null,
   "metadata": {},
   "outputs": [],
   "source": [
    "interstates.plot()"
   ]
  },
  {
   "cell_type": "markdown",
   "metadata": {},
   "source": [
    "Alright now we have a polygon and a file that contains lines. How about a point file? \n",
    "\n",
    "A major political issue the United States is currently faced with is that of mass shooting events.  Being one of the only countries in the world that experiences these phenomena at such a scale it has become a contentious issue that warrants serious thought. \n",
    "\n",
    "One attempt to collect information on mass shootings has been undertaken by the investigative news organizations _Mother Jones_.  As a disclaimer, while I have no reason to believe this database is invalid, I always suggest to be vigiliant in checking the methodologies used to collect data.  Not all data is created equal, and being critical of sources is a valuable quality in any researcher.  "
   ]
  },
  {
   "cell_type": "code",
   "execution_count": null,
   "metadata": {},
   "outputs": [],
   "source": [
    "mass_shoot = pd.read_csv('mother_jones.csv', encoding='latin-1')"
   ]
  },
  {
   "cell_type": "code",
   "execution_count": null,
   "metadata": {},
   "outputs": [],
   "source": [
    "mass_shoot.head(5)"
   ]
  },
  {
   "cell_type": "markdown",
   "metadata": {},
   "source": [
    "So we have a data set here (pandas dataframe) which looks a lot like our previous GeoDataFrame. But the type is not spatial.  In order to make this data spatial like our shapefiles, we need to provide it with a geometry.  Geometry as you will remember are the points, lines, and polygon units.  Luckily this data set does have a couple of columns that are perfect for creating a spatial data frame. These columns are longitude and latitude."
   ]
  },
  {
   "cell_type": "code",
   "execution_count": null,
   "metadata": {
    "scrolled": true
   },
   "outputs": [],
   "source": [
    "mass_geometry = [Point(xy) for xy in zip(mass_shoot.longitude, mass_shoot.latitude)]"
   ]
  },
  {
   "cell_type": "markdown",
   "metadata": {},
   "source": [
    "Alright this line of code is a little complex so lets break it down to make sure it all makes sense. \n",
    "* [] encloses the entire operation because we want a list of geometric points. Try printing out geometry to see what it looks like.\n",
    "* Point(xy) - so here we are saying that each element in the list will be a spatial Point() object. \n",
    "* for xy - xy is two elements, the x and y coordinates and we are saying for each of these in..\n",
    "* in zip() - zip means to put two elements together. For example if you had a list of first_names = john , joe, jrue and last_names = white, blue, green then if we zipped these two our resulting object would be john white, joe blue, and jrue green.\n",
    "* mass_shoot.longitude, mass_shoot.latitude - these are the two elements we are putting together to make the geometry object.\n",
    "\n",
    "Now that we have a geometry object we have all the neccessary components to make the GeoDataFrame!"
   ]
  },
  {
   "cell_type": "code",
   "execution_count": null,
   "metadata": {},
   "outputs": [],
   "source": [
    "mass_gdf = gpd.GeoDataFrame(mass_shoot, geometry = mass_geometry)"
   ]
  },
  {
   "cell_type": "code",
   "execution_count": null,
   "metadata": {},
   "outputs": [],
   "source": [
    "from fiona.crs import from_epsg\n",
    "mass_gdf.crs = from_epsg(4326)"
   ]
  },
  {
   "cell_type": "code",
   "execution_count": null,
   "metadata": {},
   "outputs": [],
   "source": [
    "mass_gdf.geometry"
   ]
  },
  {
   "cell_type": "code",
   "execution_count": null,
   "metadata": {
    "scrolled": false
   },
   "outputs": [],
   "source": [
    "fig, ax = plt.subplots(1, figsize=(12, 8))\n",
    "mass_gdf.plot(ax=ax,marker='P', markersize=mass_gdf['fatalities']*10, color='red',alpha=.8)\n",
    "florida.plot(ax=ax, alpha=0.4)\n",
    "interstates.plot(ax=ax, color='green', alpha=0.4)\n",
    "ax.set_aspect('equal')\n",
    "plt.ylabel(\"Y - Coordinates\")\n",
    "plt.xlabel(\"X - Coordinates\")\n",
    "plt.title(\"Florida Mass Shootings\")"
   ]
  },
  {
   "cell_type": "code",
   "execution_count": null,
   "metadata": {},
   "outputs": [],
   "source": []
  }
 ],
 "metadata": {
  "kernelspec": {
   "display_name": "Python 3",
   "language": "python",
   "name": "python3"
  },
  "language_info": {
   "codemirror_mode": {
    "name": "ipython",
    "version": 3
   },
   "file_extension": ".py",
   "mimetype": "text/x-python",
   "name": "python",
   "nbconvert_exporter": "python",
   "pygments_lexer": "ipython3",
   "version": "3.7.4"
  }
 },
 "nbformat": 4,
 "nbformat_minor": 2
}
