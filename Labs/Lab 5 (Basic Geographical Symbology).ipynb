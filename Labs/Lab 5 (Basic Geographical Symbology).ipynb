{
 "cells": [
  {
   "cell_type": "markdown",
   "metadata": {},
   "source": [
    "# Basic Geographical Symbology"
   ]
  },
  {
   "cell_type": "code",
   "execution_count": null,
   "metadata": {
    "collapsed": true
   },
   "outputs": [],
   "source": [
    "import os\n",
    "import pandas as pd\n",
    "import geopandas as gpd\n",
    "%matplotlib notebook\n",
    "from shapely.geometry import Point, LineString, Polygon\n",
    "from fiona.crs import from_epsg\n",
    "import matplotlib.pyplot as plt"
   ]
  },
  {
   "cell_type": "code",
   "execution_count": null,
   "metadata": {
    "collapsed": true
   },
   "outputs": [],
   "source": [
    "pd.set_option('display.max_columns', 500)\n",
    "pd.set_option('display.max_rows', 500)"
   ]
  },
  {
   "cell_type": "markdown",
   "metadata": {},
   "source": [
    "As always lets go ahead import our go to libraries and set some settings."
   ]
  },
  {
   "cell_type": "markdown",
   "metadata": {},
   "source": [
    "Today is all about symbology. We are going to _symbolize_ each of the typs discussed in our previous lecture. First lets load in some data so that way we have something to work with. "
   ]
  },
  {
   "cell_type": "code",
   "execution_count": null,
   "metadata": {
    "collapsed": true
   },
   "outputs": [],
   "source": [
    "os.chdir('data')"
   ]
  },
  {
   "cell_type": "markdown",
   "metadata": {},
   "source": [
    "Alright we are going to do something a little more advanced to keep everyone from having to run soooo many execution boxes. Functions! If you remember from early on in the semester we talked about these.  They are essentially a series of commands that you can tell python to do within by defining them not individually, but together. Everything we are doing here is what we did last week so don't get to nervous its just bunched together."
   ]
  },
  {
   "cell_type": "code",
   "execution_count": null,
   "metadata": {
    "collapsed": true
   },
   "outputs": [],
   "source": [
    "def get_tabular():\n",
    "    \n",
    "    food_data = pd.read_csv('food_all.csv', encoding='latin-1')\n",
    "    \n",
    "    keep_cols = ['ccode', 'country', 'leader', 'year', 'elected', 'age', 'male',\n",
    "       'militarycareer', 'government',\n",
    "       'prev_conflict', 'pt_suc', 'pt_attempt', 'precip', 'couprisk',\n",
    "       'democracy', 'autocracy', 'day', 'date', 'GEO',\n",
    "       '_ISO3N_', 'M49 Code_x', 'percap cals']\n",
    "    \n",
    "    food_data = food_data[keep_cols]\n",
    "    \n",
    "    pts_data = pd.read_csv('PTS-2019.csv', encoding='latin-1')\n",
    "    \n",
    "    pts_cols = ['Year', 'COW_Code_N', 'PTS_A', 'PTS_H', 'PTS_S']\n",
    "    \n",
    "    pts_data = pts_data[pts_cols]\n",
    "    \n",
    "    left_merge = pd.merge(food_data, pts_data, left_on=['year', 'ccode'], right_on=['Year','COW_Code_N'], how='left')\n",
    "    \n",
    "    left_merge[left_merge.duplicated(['year', 'ccode'], keep=False)]\n",
    "    \n",
    "    left_merge = left_merge.drop_duplicates(subset=['year', 'ccode'], keep='last')\n",
    "    \n",
    "    df = left_merge\n",
    "    \n",
    "    return df"
   ]
  },
  {
   "cell_type": "markdown",
   "metadata": {},
   "source": [
    "Now to run our function the way we have set it up, we just call it and set our data frame equal to it."
   ]
  },
  {
   "cell_type": "code",
   "execution_count": null,
   "metadata": {
    "collapsed": true
   },
   "outputs": [],
   "source": [
    "food_data = get_tabular()"
   ]
  },
  {
   "cell_type": "markdown",
   "metadata": {},
   "source": [
    "Lets check and make sure!"
   ]
  },
  {
   "cell_type": "code",
   "execution_count": null,
   "metadata": {},
   "outputs": [],
   "source": [
    "food_data.head()"
   ]
  },
  {
   "cell_type": "markdown",
   "metadata": {},
   "source": [
    "Perfect! Now lets do a function to get our world shapefile and narrow it down to the most recent version."
   ]
  },
  {
   "cell_type": "code",
   "execution_count": null,
   "metadata": {
    "collapsed": true
   },
   "outputs": [],
   "source": [
    "def get_world():\n",
    "    \n",
    "    world = gpd.read_file('worldmap/cshapes.shp') \n",
    "    \n",
    "    world = world[world.COWEYEAR == 2016]\n",
    "    \n",
    "    return world"
   ]
  },
  {
   "cell_type": "code",
   "execution_count": null,
   "metadata": {
    "collapsed": true
   },
   "outputs": [],
   "source": [
    "world = get_world()"
   ]
  },
  {
   "cell_type": "code",
   "execution_count": null,
   "metadata": {},
   "outputs": [],
   "source": [
    "world.plot()"
   ]
  },
  {
   "cell_type": "markdown",
   "metadata": {},
   "source": [
    "Now lets get a little trickier. Today lets say our question is all about the countries we had worked with in Africa last time namely; Central African Republic, DRC, and Uganda. In addition to all of the country level statstics we want two additional aspects (both which we went over last time).\n",
    "\n",
    "1. We want a cross-sectional data frame that has those countries with a sum of conflict deaths.\n",
    "2. An event level file to show each individual event as a point."
   ]
  },
  {
   "cell_type": "code",
   "execution_count": null,
   "metadata": {
    "collapsed": true
   },
   "outputs": [],
   "source": [
    "def make_two_dfs(food_data, world):\n",
    "    \n",
    "    food_data = food_data[food_data.year == 2014] ##snapshot of 2014 for our food, regime, and state charicteristics data\n",
    "    \n",
    "    world = world.merge(food_data, left_on='COWCODE', right_on='ccode', how='left')\n",
    "    \n",
    "    countrys = ['Uganda', 'Central African Republic', 'Congo, DRC']\n",
    "    \n",
    "    central_af = world[world.CNTRY_NAME.isin(countrys)]\n",
    "    \n",
    "    # now lets get the two things we want. \n",
    "    \n",
    "    ged_2014 = pd.read_csv('ged_2014.csv')\n",
    "    \n",
    "    country_sums = ged_2014.groupby('country_id')['best'].sum().reset_index() ## LEts get the sum of deaths by country\n",
    "    \n",
    "    central_af = central_af.merge(country_sums, left_on='COWCODE', right_on='country_id', how='left') ## And here we satisfy our first requirement\n",
    "    \n",
    "    codes = [482, 490, 500]\n",
    "    \n",
    "    ged_car = ged_2014[ged_2014.country_id.isin(codes)]\n",
    "    \n",
    "    ged_geometry = [Point(xy) for xy in zip(ged_car.longitude, ged_car.latitude)] ## Lets make our geometry \n",
    "    \n",
    "    ged_gdf = gpd.GeoDataFrame(ged_car, geometry = ged_geometry) ## Finally lets get number 2\n",
    "    \n",
    "    return central_af, ged_gdf"
   ]
  },
  {
   "cell_type": "code",
   "execution_count": null,
   "metadata": {
    "collapsed": true
   },
   "outputs": [],
   "source": [
    "world2, ged_gdf = make_two_dfs(food_data, world)"
   ]
  },
  {
   "cell_type": "markdown",
   "metadata": {},
   "source": [
    "Lets check and make sure we got what we want."
   ]
  },
  {
   "cell_type": "code",
   "execution_count": null,
   "metadata": {},
   "outputs": [],
   "source": [
    "world2.head()"
   ]
  },
  {
   "cell_type": "code",
   "execution_count": null,
   "metadata": {},
   "outputs": [],
   "source": [
    "ged_gdf.tail()"
   ]
  },
  {
   "cell_type": "markdown",
   "metadata": {},
   "source": [
    "Look at all those functions put to good use!  Now instead of line after line of executing files, we just have a few and everything is a little smoother. We are well on our way to becoming more _Pythonic_ coders!"
   ]
  },
  {
   "cell_type": "markdown",
   "metadata": {},
   "source": [
    "Now that we have our base data from last time all loaded up, lets get to what we want to do today, symbolizing:\n",
    "- Points\n",
    "- Lines\n",
    "- Polygons"
   ]
  },
  {
   "cell_type": "markdown",
   "metadata": {},
   "source": [
    "## Points"
   ]
  },
  {
   "cell_type": "markdown",
   "metadata": {},
   "source": [
    "Lets start with points. First lets do a quick points plots like last time."
   ]
  },
  {
   "cell_type": "code",
   "execution_count": null,
   "metadata": {},
   "outputs": [],
   "source": [
    "fig, ax = plt.subplots()\n",
    "world2.plot(ax=ax, facecolor='gray');\n",
    "ged_gdf.plot(ax=ax, color='blue');\n",
    "ax.set_aspect('equal')"
   ]
  },
  {
   "cell_type": "markdown",
   "metadata": {},
   "source": [
    "Now we got all the points plotted onto our map. Great! How about we vary the size some now."
   ]
  },
  {
   "cell_type": "code",
   "execution_count": null,
   "metadata": {},
   "outputs": [],
   "source": [
    "fig, ax = plt.subplots()\n",
    "world2.plot(ax=ax, facecolor='gray');\n",
    "ged_gdf.plot(ax=ax, color='blue', markersize=ged_gdf['best']);\n",
    "ax.set_aspect('equal')"
   ]
  },
  {
   "cell_type": "markdown",
   "metadata": {},
   "source": [
    "So is this proportional or graduated???"
   ]
  },
  {
   "cell_type": "markdown",
   "metadata": {},
   "source": [
    "If you guessed __"
   ]
  },
  {
   "cell_type": "markdown",
   "metadata": {},
   "source": [
    "![correct](https://media.giphy.com/media/PS7d4tm1Hq6Sk/giphy.gif)"
   ]
  },
  {
   "cell_type": "markdown",
   "metadata": {},
   "source": [
    "Lets do the other one then. First we should check the distribution of the variable."
   ]
  },
  {
   "cell_type": "code",
   "execution_count": null,
   "metadata": {},
   "outputs": [],
   "source": [
    "ged_gdf.best.describe()"
   ]
  },
  {
   "cell_type": "markdown",
   "metadata": {},
   "source": [
    "So lets take this continuous variable and chop it up into bins or classes."
   ]
  },
  {
   "cell_type": "code",
   "execution_count": null,
   "metadata": {
    "collapsed": true
   },
   "outputs": [],
   "source": [
    "def bin_it(ged_gdf):\n",
    "    \n",
    "    bins = [-1, 1.1, 3.1, 8.1, 500]\n",
    "    labels = [2,5,10,20]\n",
    "    ged_gdf['best_bin'] = pd.cut(ged_gdf['best'], bins,labels=labels)\n",
    "    ged_gdf['best_bin'] = ged_gdf['best_bin'].astype(int)\n",
    "    \n",
    "    return ged_gdf"
   ]
  },
  {
   "cell_type": "code",
   "execution_count": null,
   "metadata": {
    "collapsed": true
   },
   "outputs": [],
   "source": [
    "ged_gdf2 = bin_it(ged_gdf)"
   ]
  },
  {
   "cell_type": "code",
   "execution_count": null,
   "metadata": {},
   "outputs": [],
   "source": [
    "fig, ax = plt.subplots()\n",
    "world2.plot(ax=ax, facecolor='gray');\n",
    "#scatter = ged_gdf2.plot(ax=ax, color='green', markersize=ged_gdf2['best_bin']);\n",
    "scatter = ax.scatter(ged_gdf2['longitude'], ged_gdf2['latitude'], color='green', s=ged_gdf2['best_bin'])\n",
    "ax.set_aspect('equal')"
   ]
  },
  {
   "cell_type": "markdown",
   "metadata": {},
   "source": [
    "So we now have some proportional and graduated dots on the map.  How about we vary some other aspects of the dots."
   ]
  },
  {
   "cell_type": "markdown",
   "metadata": {},
   "source": [
    "### Color"
   ]
  },
  {
   "cell_type": "markdown",
   "metadata": {},
   "source": [
    "In addition to varying the color, we can also add some other things to our map to make it a little more appealing. Edgecolor, alphas (opacity), and a background color. \n",
    "\n",
    "For color lets find a variable that has a few classes that would be important to see the distinction between, how about type of violence."
   ]
  },
  {
   "cell_type": "code",
   "execution_count": null,
   "metadata": {},
   "outputs": [],
   "source": [
    "fig, ax = plt.subplots()\n",
    "world2.plot(ax=ax, facecolor='gray', edgecolor='black');\n",
    "scatter = ax.scatter(ged_gdf2['longitude'], ged_gdf2['latitude'], c=ged_gdf2.type_of_violence, cmap='PiYG', s=ged_gdf2['best_bin'],\n",
    "                    alpha=0.7)\n",
    "ax.set_aspect('equal')\n",
    "ax.set_facecolor('steelblue')\n",
    "cbar = fig.colorbar(scatter, ticks=[1, 2, 3])\n",
    "cbar.ax.set_yticklabels(['State', 'Non-State', 'One-Sided'])\n"
   ]
  },
  {
   "cell_type": "markdown",
   "metadata": {},
   "source": [
    "Go ahead and vary some of the colors! Why not choose a new color map. https://matplotlib.org/3.1.0/tutorials/colors/colormaps.html\n",
    "\n",
    "Some color maps will not work well for this one.  Remember your variable types (and what the range is within that variable) is important when thinking about color choices.\n",
    "\n",
    "Also check out the color wheels and complimentary colors here: https://www.canva.com/colors/color-wheel/\n",
    "\n",
    "For our next excercise on markers: https://matplotlib.org/1.4.1/api/markers_api.html\n",
    "\n",
    "\n",
    "### Symbols"
   ]
  },
  {
   "cell_type": "code",
   "execution_count": null,
   "metadata": {},
   "outputs": [],
   "source": [
    "fig, ax = plt.subplots()\n",
    "world2.plot(ax=ax, facecolor='gray', edgecolor='black');\n",
    "state = ged_gdf2.loc[ged_gdf2.type_of_violence ==1]\n",
    "non = ged_gdf2.loc[ged_gdf2.type_of_violence ==2]\n",
    "one = ged_gdf2.loc[ged_gdf2.type_of_violence ==3]\n",
    "\n",
    "scatter1 = ax.scatter(state['longitude'], state['latitude'], color='blue', marker='x', s=ged_gdf2['best'],\n",
    "                    alpha=0.7)\n",
    "scatter2 = ax.scatter(non['longitude'], non['latitude'], color='green', marker='v', s=ged_gdf2['best'],\n",
    "                    alpha=0.7)\n",
    "scatter3 = ax.scatter(one['longitude'], one['latitude'], color='yellow', marker='d', s=ged_gdf2['best'],\n",
    "                    alpha=0.7)\n",
    "ax.set_aspect('equal')\n",
    "ax.set_facecolor('steelblue')"
   ]
  },
  {
   "cell_type": "markdown",
   "metadata": {},
   "source": [
    "Lets try again with some colors that are actually appealing.  Use the color wheel to pick your own colors!"
   ]
  },
  {
   "cell_type": "code",
   "execution_count": null,
   "metadata": {},
   "outputs": [],
   "source": [
    "fig, ax = plt.subplots()\n",
    "world2.plot(ax=ax, facecolor='gray', edgecolor='black');\n",
    "state = ged_gdf2.loc[ged_gdf2.type_of_violence ==1]\n",
    "non = ged_gdf2.loc[ged_gdf2.type_of_violence ==2]\n",
    "one = ged_gdf2.loc[ged_gdf2.type_of_violence ==3]\n",
    "\n",
    "scatter1 = ax.scatter(state['longitude'], state['latitude'], color='#25DAC3', marker='x', s=ged_gdf2['best'],\n",
    "                    alpha=0.7)\n",
    "scatter2 = ax.scatter(non['longitude'], non['latitude'], color='#C325DA', marker='v', s=ged_gdf2['best'],\n",
    "                    alpha=0.7)\n",
    "scatter3 = ax.scatter(one['longitude'], one['latitude'], color='#DAC325', marker='d', s=ged_gdf2['best'],\n",
    "                    alpha=0.7)\n",
    "ax.set_aspect('equal')\n",
    "ax.set_facecolor('steelblue')"
   ]
  },
  {
   "cell_type": "markdown",
   "metadata": {},
   "source": [
    "![alright](https://media.giphy.com/media/g5zvwUa9720pO/giphy.gif)\n",
    "\n",
    "We are making progress!!"
   ]
  },
  {
   "cell_type": "markdown",
   "metadata": {},
   "source": [
    "Lets move on to changing some lines now.\n",
    "\n",
    "## Lines"
   ]
  },
  {
   "cell_type": "markdown",
   "metadata": {},
   "source": [
    "First we can load in some data on rivers."
   ]
  },
  {
   "cell_type": "code",
   "execution_count": null,
   "metadata": {
    "collapsed": true
   },
   "outputs": [],
   "source": [
    "rivers = gpd.read_file('central_africa/rivers.shp') "
   ]
  },
  {
   "cell_type": "code",
   "execution_count": null,
   "metadata": {},
   "outputs": [],
   "source": [
    "rivers.plot(linewidth=rivers.StrokeWeig)"
   ]
  },
  {
   "cell_type": "code",
   "execution_count": null,
   "metadata": {
    "collapsed": true
   },
   "outputs": [],
   "source": [
    "rivers.head()"
   ]
  },
  {
   "cell_type": "markdown",
   "metadata": {},
   "source": [
    "Luckily we have something built into this data that gives us a clean value for the river sizes.  Let's add this to our last plot!"
   ]
  },
  {
   "cell_type": "code",
   "execution_count": null,
   "metadata": {},
   "outputs": [],
   "source": [
    "fig, ax = plt.subplots()\n",
    "world2.plot(ax=ax, facecolor='gray', edgecolor='black');\n",
    "state = ged_gdf2.loc[ged_gdf2.type_of_violence ==1]\n",
    "non = ged_gdf2.loc[ged_gdf2.type_of_violence ==2]\n",
    "one = ged_gdf2.loc[ged_gdf2.type_of_violence ==3]\n",
    "\n",
    "scatter1 = ax.scatter(state['longitude'], state['latitude'], color='#25DAC3', marker='x', s=ged_gdf2['best'],\n",
    "                    alpha=0.7)\n",
    "scatter2 = ax.scatter(non['longitude'], non['latitude'], color='#C325DA', marker='v', s=ged_gdf2['best'],\n",
    "                    alpha=0.7)\n",
    "scatter3 = ax.scatter(one['longitude'], one['latitude'], color='#DAC325', marker='d', s=ged_gdf2['best'],\n",
    "                    alpha=0.7)\n",
    "rivers.plot(ax=ax, linewidth=rivers.StrokeWeig)\n",
    "ax.set_aspect('equal')\n",
    "ax.set_facecolor('steelblue')"
   ]
  },
  {
   "cell_type": "markdown",
   "metadata": {},
   "source": [
    "Sweet! Lines can be used just like points. You can vary shape, color and size. Lets do one more with the shape. "
   ]
  },
  {
   "cell_type": "code",
   "execution_count": null,
   "metadata": {},
   "outputs": [],
   "source": [
    "fig, ax = plt.subplots()\n",
    "world2.plot(ax=ax, facecolor='gray', edgecolor='black');\n",
    "state = ged_gdf2.loc[ged_gdf2.type_of_violence ==1]\n",
    "non = ged_gdf2.loc[ged_gdf2.type_of_violence ==2]\n",
    "one = ged_gdf2.loc[ged_gdf2.type_of_violence ==3]\n",
    "\n",
    "scatter1 = ax.scatter(state['longitude'], state['latitude'], color='#25DAC3', marker='x', s=ged_gdf2['best'],\n",
    "                    alpha=0.7)\n",
    "scatter2 = ax.scatter(non['longitude'], non['latitude'], color='#C325DA', marker='v', s=ged_gdf2['best'],\n",
    "                    alpha=0.7)\n",
    "scatter3 = ax.scatter(one['longitude'], one['latitude'], color='#DAC325', marker='d', s=ged_gdf2['best'],\n",
    "                    alpha=0.7)\n",
    "\n",
    "rivers.plot(ax=ax, linewidth=rivers.StrokeWeig, linestyle='-.')\n",
    "ax.set_aspect('equal')\n",
    "ax.set_facecolor('steelblue')"
   ]
  },
  {
   "cell_type": "markdown",
   "metadata": {},
   "source": [
    "Zoom in to the map and check it out. You can see that the rivers are actually patterned differently than just a solid line. https://matplotlib.org/3.1.0/gallery/lines_bars_and_markers/linestyles.html\n"
   ]
  },
  {
   "cell_type": "markdown",
   "metadata": {},
   "source": [
    "On to the main event, Polygons!\n",
    "\n",
    "## Polygons"
   ]
  },
  {
   "cell_type": "markdown",
   "metadata": {},
   "source": [
    "Let's go ahead and turn to choropleth maps now.  Very basically you can vary the color within a cross-section of polygons based on some variable. So what would be a good variable in this data to vary. How about we try a few and use different cmaps."
   ]
  },
  {
   "cell_type": "code",
   "execution_count": null,
   "metadata": {},
   "outputs": [],
   "source": [
    "world2.head()\n",
    "#world2.precip.describe()"
   ]
  },
  {
   "cell_type": "code",
   "execution_count": null,
   "metadata": {},
   "outputs": [],
   "source": [
    "fig, ax = plt.subplots()\n",
    "world2.plot(ax=ax, column='precip', cmap='PiYG',facecolor='gray', edgecolor='black', legend=True);\n",
    "ax.set_aspect('equal')\n",
    "ax.set_facecolor('steelblue')\n",
    "plt.title(\"Precipitation Levels\")\n"
   ]
  },
  {
   "cell_type": "markdown",
   "metadata": {},
   "source": [
    "Hmmm that one isn't all that pleasing. \n",
    "\n",
    "![alright](https://media.giphy.com/media/FYCxLHCIGaioo/giphy.gif)\n"
   ]
  },
  {
   "cell_type": "markdown",
   "metadata": {},
   "source": [
    "How about we try one that is sequential."
   ]
  },
  {
   "cell_type": "code",
   "execution_count": null,
   "metadata": {},
   "outputs": [],
   "source": [
    "fig, ax = plt.subplots()\n",
    "world2.plot(ax=ax, column='precip', cmap='Wistia',facecolor='gray', edgecolor='black', legend=True);\n",
    "ax.set_aspect('equal')\n",
    "ax.set_facecolor('steelblue')\n",
    "plt.title(\"Precipitation Levels\")\n"
   ]
  },
  {
   "cell_type": "markdown",
   "metadata": {},
   "source": [
    "Its better but maybe we want to flip it. Something you can do is reverse a color scheme but just using the simple _r"
   ]
  },
  {
   "cell_type": "code",
   "execution_count": null,
   "metadata": {
    "scrolled": false
   },
   "outputs": [],
   "source": [
    "fig, ax = plt.subplots()\n",
    "world2.plot(ax=ax, column='precip', cmap='Wistia_r',facecolor='gray', edgecolor='black', legend=True);\n",
    "ax.set_aspect('equal')\n",
    "ax.set_facecolor('steelblue')\n",
    "plt.title(\"Precipitation Levels\")\n"
   ]
  },
  {
   "cell_type": "markdown",
   "metadata": {},
   "source": [
    "Exercise: Why don't you all try and make some other choropleth maps.  Use additional columns, colors, and even add some of the points and lines we have done so far!"
   ]
  },
  {
   "cell_type": "code",
   "execution_count": null,
   "metadata": {
    "collapsed": true
   },
   "outputs": [],
   "source": []
  },
  {
   "cell_type": "markdown",
   "metadata": {},
   "source": [
    "# BONUS \n",
    "\n",
    "Try to load up the ACLED data.  Then narrow down to only protests and riots and plot that."
   ]
  },
  {
   "cell_type": "code",
   "execution_count": null,
   "metadata": {
    "collapsed": true
   },
   "outputs": [],
   "source": []
  }
 ],
 "metadata": {
  "kernelspec": {
   "display_name": "Python 3",
   "language": "python",
   "name": "python3"
  },
  "language_info": {
   "codemirror_mode": {
    "name": "ipython",
    "version": 3
   },
   "file_extension": ".py",
   "mimetype": "text/x-python",
   "name": "python",
   "nbconvert_exporter": "python",
   "pygments_lexer": "ipython3",
   "version": "3.6.3"
  }
 },
 "nbformat": 4,
 "nbformat_minor": 2
}
